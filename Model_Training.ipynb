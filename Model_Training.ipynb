{
  "nbformat": 4,
  "nbformat_minor": 0,
  "metadata": {
    "colab": {
      "provenance": [],
      "machine_shape": "hm"
    },
    "kernelspec": {
      "name": "python3",
      "display_name": "Python 3"
    },
    "language_info": {
      "name": "python"
    },
    "gpuClass": "standard"
  },
  "cells": [
    {
      "cell_type": "markdown",
      "source": [
        "# DATA603 Big Data Processing Project \n",
        "Group 3: Pooja Kangokar Pranesh, Yun-Zih Chen, Elizabeth Cardosa\n",
        "\n",
        "The goal of this project is leverage big data technologies to train a model using the UCI ML Drug Review dataset to predict the star rating of drug based on the sentiment of the review. This model will then perform inference in a streaming manner on ‘real-time’ reviews coming in. This application can then be used to help potential customers understand the overall sentiment towards a drug and if it might be useful for them. \n"
      ],
      "metadata": {
        "id": "f6WifCaLDGcN"
      }
    },
    {
      "cell_type": "code",
      "execution_count": 1,
      "metadata": {
        "colab": {
          "base_uri": "https://localhost:8080/"
        },
        "id": "QOjNnpYbBbOO",
        "outputId": "3cf960b0-71dc-4e9a-b54d-e8b596114ef7"
      },
      "outputs": [
        {
          "output_type": "stream",
          "name": "stdout",
          "text": [
            "Mounted at /content/drive\n"
          ]
        }
      ],
      "source": [
        "from google.colab import drive\n",
        "drive.mount('/content/drive')"
      ]
    },
    {
      "cell_type": "code",
      "source": [
        "working_folder = \"/content/drive/My Drive/UMBC Fall 2022/DATA603 Big Data Processing/Project/Data/\""
      ],
      "metadata": {
        "id": "PIZxklXOCF68"
      },
      "execution_count": 2,
      "outputs": []
    },
    {
      "cell_type": "markdown",
      "source": [
        "# Install Libraries and Dependencies"
      ],
      "metadata": {
        "id": "XmKrGUucF-Iv"
      }
    },
    {
      "cell_type": "code",
      "source": [
        "# Install PySpark and Spark NLP\n",
        "! pip install -qq pyspark==3.2.1 findspark #pyspark==3.1.2 spark-nlp findspark"
      ],
      "metadata": {
        "id": "-x6Yo--BrPS5",
        "colab": {
          "base_uri": "https://localhost:8080/"
        },
        "outputId": "2bd5144a-5b24-4af0-c231-f06c32cb888c"
      },
      "execution_count": 3,
      "outputs": [
        {
          "output_type": "stream",
          "name": "stdout",
          "text": [
            "\u001b[K     |████████████████████████████████| 281.4 MB 30 kB/s \n",
            "\u001b[K     |████████████████████████████████| 198 kB 44.8 MB/s \n",
            "\u001b[?25h  Building wheel for pyspark (setup.py) ... \u001b[?25l\u001b[?25hdone\n"
          ]
        }
      ]
    },
    {
      "cell_type": "code",
      "source": [
        "import pyspark.pandas as ps\n",
        "import pandas as pd"
      ],
      "metadata": {
        "colab": {
          "base_uri": "https://localhost:8080/"
        },
        "id": "YXvkRIb6DFc3",
        "outputId": "d1a26ee5-8ccb-4961-a8c0-b10cce7e3fbb"
      },
      "execution_count": 4,
      "outputs": [
        {
          "output_type": "stream",
          "name": "stderr",
          "text": [
            "WARNING:root:'PYARROW_IGNORE_TIMEZONE' environment variable was not set. It is required to set this environment variable to '1' in both driver and executor sides if you use pyarrow>=2.0.0. pandas-on-Spark will set it for you but it does not work if there is a Spark context already launched.\n"
          ]
        }
      ]
    },
    {
      "cell_type": "code",
      "source": [
        "from pyspark.sql.types import *\n",
        "from pyspark.sql.functions import *\n",
        "from pyspark.sql import SparkSession\n",
        "from pyspark import SparkContext\n",
        "import findspark"
      ],
      "metadata": {
        "id": "aO-Tc6NMDRRn"
      },
      "execution_count": 5,
      "outputs": []
    },
    {
      "cell_type": "code",
      "source": [
        "# To initialize PySpark\n",
        "findspark.init()\n",
        "#To verify the automatically detected location\n",
        "findspark.find ()\n",
        "# Create a Spark Session\n",
        "spark = SparkSession.builder.master(\"local[*]\").getOrCreate()\n",
        "# Check Spark Session Information\n",
        "spark"
      ],
      "metadata": {
        "colab": {
          "base_uri": "https://localhost:8080/",
          "height": 223
        },
        "id": "Cpep-Y83IgNN",
        "outputId": "439db4b5-e96e-4e7a-9c86-9ad395aec715"
      },
      "execution_count": 6,
      "outputs": [
        {
          "output_type": "execute_result",
          "data": {
            "text/plain": [
              "<pyspark.sql.session.SparkSession at 0x7fbd37ff1910>"
            ],
            "text/html": [
              "\n",
              "            <div>\n",
              "                <p><b>SparkSession - in-memory</b></p>\n",
              "                \n",
              "        <div>\n",
              "            <p><b>SparkContext</b></p>\n",
              "\n",
              "            <p><a href=\"http://57f0f2194341:4040\">Spark UI</a></p>\n",
              "\n",
              "            <dl>\n",
              "              <dt>Version</dt>\n",
              "                <dd><code>v3.2.1</code></dd>\n",
              "              <dt>Master</dt>\n",
              "                <dd><code>local[*]</code></dd>\n",
              "              <dt>AppName</dt>\n",
              "                <dd><code>pyspark-shell</code></dd>\n",
              "            </dl>\n",
              "        </div>\n",
              "        \n",
              "            </div>\n",
              "        "
            ]
          },
          "metadata": {},
          "execution_count": 6
        }
      ]
    },
    {
      "cell_type": "code",
      "source": [
        "sc = SparkContext.getOrCreate();"
      ],
      "metadata": {
        "id": "MrG8uo1zjfU2"
      },
      "execution_count": 7,
      "outputs": []
    },
    {
      "cell_type": "markdown",
      "source": [
        "# Read-in Dataset\n"
      ],
      "metadata": {
        "id": "ll9VMsHzGDOh"
      }
    },
    {
      "cell_type": "markdown",
      "source": [
        "## Dataset: https://archive.ics.uci.edu/ml/datasets/Drug+Review+Dataset+%28Drugs.com%29\n"
      ],
      "metadata": {
        "id": "W2pmNadvonZi"
      }
    },
    {
      "cell_type": "markdown",
      "source": [
        "The dataset provides patient reviews on specific drugs along with related conditions and a 10 star patient rating reflecting overall patient satisfaction. The data was obtained by crawling online pharmaceutical review sites. The intention was to study\n",
        "\n",
        "- sentiment analysis of drug experience over multiple facets, i.e. sentiments learned on specific aspects such as effectiveness and side effects,\n",
        "- the transferability of models among domains, i.e. conditions, and\n",
        "- the transferability of models among different data sources (see 'Drug Review Dataset (Druglib.com)').\n",
        "\n",
        "The data is split into a train (75%) a test (25%) partition (see publication) and stored in two .tsv (tab-separated-values) files, respectively.\n",
        "\n",
        "Attribute Information:\n",
        "\n",
        "1. drugName (categorical): name of drug\n",
        "2. condition (categorical): name of condition\n",
        "3. review (text): patient review\n",
        "4. rating (numerical): 10 star patient rating\n",
        "5. date (date): date of review entry\n",
        "6. usefulCount (numerical): number of users who found review useful\n"
      ],
      "metadata": {
        "id": "ZXFtRQpRoiom"
      }
    },
    {
      "cell_type": "markdown",
      "source": [
        "Important notes:\n",
        "\n",
        "When using this dataset, you agree that you\n",
        "1. only use the data for research purposes\n",
        "2. don't use the data for any commerical purposes\n",
        "3. don't distribute the data to anyone else\n",
        "4. cite us\n",
        "\n",
        "Felix Gräßer, Surya Kallumadi, Hagen Malberg, and Sebastian Zaunseder. 2018. Aspect-Based Sentiment Analysis of Drug Reviews Applying Cross-Domain and Cross-Data Learning. In Proceedings of the 2018 International Conference on Digital Health (DH '18). ACM, New York, NY, USA, 121-125. DOI: [Web Link] "
      ],
      "metadata": {
        "id": "0xOlCh2ISk6v"
      }
    },
    {
      "cell_type": "markdown",
      "source": [
        "## Load in Test Data"
      ],
      "metadata": {
        "id": "xnVpV1iaHchm"
      }
    },
    {
      "cell_type": "code",
      "source": [
        "# Read in training data file\n",
        "customschema = StructType([\n",
        "  StructField(\"UniqueID\", IntegerType(), True)\n",
        "  ,StructField(\"drugName\", StringType(), True)\n",
        "  ,StructField(\"condition\", StringType(), True)\n",
        "  ,StructField(\"review\", StringType(), True)\n",
        "  ,StructField(\"rating\", DoubleType(), True)\n",
        "  ,StructField(\"date\", StringType(), True)\n",
        "  ,StructField(\"usefulCount\", IntegerType(), True)\n",
        "  ,StructField(\"sentiment\", DoubleType(), True)\n",
        "  ])"
      ],
      "metadata": {
        "id": "o4220ehFHerX"
      },
      "execution_count": 8,
      "outputs": []
    },
    {
      "cell_type": "code",
      "source": [
        "df_test = spark.read.format(\"csv\")\\\n",
        "           .option(\"delimiter\", \"|\")\\\n",
        "           .option(\"header\", \"true\")\\\n",
        "           .option(\"quote\", \"\\\"\")\\\n",
        "           .option(\"escape\", \"\\\"\")\\\n",
        "           .option(\"multiLine\",\"true\")\\\n",
        "           .option(\"quoteMode\",\"ALL\")\\\n",
        "           .option(\"mode\",\"PERMISSIVE\")\\\n",
        "           .option(\"ignoreLeadingWhiteSpace\",\"true\")\\\n",
        "           .option(\"ignoreTrailingWhiteSpace\",\"true\")\\\n",
        "           .option(\"parserLib\",\"UNIVOCITY\")\\\n",
        "           .schema(customschema)\\\n",
        "           .load(working_folder + \"drug_reviews_with_sentiment_test.csv\")"
      ],
      "metadata": {
        "id": "prmAhNSIHiZ5"
      },
      "execution_count": 9,
      "outputs": []
    },
    {
      "cell_type": "code",
      "source": [
        "df_test.count()"
      ],
      "metadata": {
        "colab": {
          "base_uri": "https://localhost:8080/"
        },
        "id": "yUfc5E3WpH3a",
        "outputId": "4b81d8c9-0ac9-4f59-faf8-aabddf73bb9a"
      },
      "execution_count": 10,
      "outputs": [
        {
          "output_type": "execute_result",
          "data": {
            "text/plain": [
              "53200"
            ]
          },
          "metadata": {},
          "execution_count": 10
        }
      ]
    },
    {
      "cell_type": "code",
      "source": [
        "df_test.show(5)"
      ],
      "metadata": {
        "colab": {
          "base_uri": "https://localhost:8080/"
        },
        "id": "tHClVhv7HmUu",
        "outputId": "f446a5e2-1dc4-41a7-fd93-536b5965c70e"
      },
      "execution_count": 11,
      "outputs": [
        {
          "output_type": "stream",
          "name": "stdout",
          "text": [
            "+--------+---------------+--------------------+--------------------+------+------------------+-----------+-------------------+\n",
            "|UniqueID|       drugName|           condition|              review|rating|              date|usefulCount|          sentiment|\n",
            "+--------+---------------+--------------------+--------------------+------+------------------+-----------+-------------------+\n",
            "|  163740|    Mirtazapine|          Depression|\"I&#039;ve tried ...|  10.0| February 28, 2012|         22|                0.0|\n",
            "|  206473|     Mesalamine|Crohn's Disease, ...|\"My son has Crohn...|   8.0|      May 17, 2009|         17| 0.5666666666666667|\n",
            "|  159672|        Bactrim|Urinary Tract Inf...|\"Quick reduction ...|   9.0|September 29, 2017|          3| 0.3333333333333333|\n",
            "|   39293|       Contrave|         Weight Loss|\"Contrave combine...|   9.0|     March 5, 2017|         35|          0.1390625|\n",
            "|   97768|Cyclafem 1 / 35|       Birth Control|\"I have been on t...|   9.0|  October 22, 2015|          4|0.26092592592592595|\n",
            "+--------+---------------+--------------------+--------------------+------+------------------+-----------+-------------------+\n",
            "only showing top 5 rows\n",
            "\n"
          ]
        }
      ]
    },
    {
      "cell_type": "markdown",
      "source": [
        "## Load in and Explore Training Data"
      ],
      "metadata": {
        "id": "a6Ky5tG_HWjQ"
      }
    },
    {
      "cell_type": "code",
      "source": [
        "# Read in training data file\n",
        "customschema = StructType([\n",
        "  StructField(\"UniqueID\", IntegerType(), True)\n",
        "  ,StructField(\"drugName\", StringType(), True)\n",
        "  ,StructField(\"condition\", StringType(), True)\n",
        "  ,StructField(\"review\", StringType(), True)\n",
        "  ,StructField(\"rating\", DoubleType(), True)\n",
        "  ,StructField(\"date\", StringType(), True)\n",
        "  ,StructField(\"usefulCount\", IntegerType(), True)\n",
        "  ,StructField(\"sentiment\", DoubleType(), True)\n",
        "  ])\n",
        "\n",
        "df = spark.read.format(\"csv\")\\\n",
        "           .option(\"delimiter\", \"|\")\\\n",
        "           .option(\"header\", \"true\")\\\n",
        "           .option(\"escape\", \"\\\"\")\\\n",
        "           .option(\"multiLine\",\"true\")\\\n",
        "           .option(\"quoteMode\",\"ALL\")\\\n",
        "           .option(\"mode\",\"PERMISSIVE\")\\\n",
        "           .option(\"ignoreLeadingWhiteSpace\",\"true\")\\\n",
        "           .option(\"ignoreTrailingWhiteSpace\",\"true\")\\\n",
        "           .option(\"parserLib\",\"UNIVOCITY\")\\\n",
        "           .schema(customschema)\\\n",
        "           .load(working_folder + \"drug_reviews_with_sentiment_train.csv\")"
      ],
      "metadata": {
        "id": "9WMlYS-iCGEW"
      },
      "execution_count": 12,
      "outputs": []
    },
    {
      "cell_type": "code",
      "source": [
        "df.count()"
      ],
      "metadata": {
        "colab": {
          "base_uri": "https://localhost:8080/"
        },
        "id": "nocaGG4bfmex",
        "outputId": "00e86938-03ad-47a6-abf0-c00c7a5d56d3"
      },
      "execution_count": 13,
      "outputs": [
        {
          "output_type": "execute_result",
          "data": {
            "text/plain": [
              "159498"
            ]
          },
          "metadata": {},
          "execution_count": 13
        }
      ]
    },
    {
      "cell_type": "code",
      "source": [
        "df.show(5)"
      ],
      "metadata": {
        "colab": {
          "base_uri": "https://localhost:8080/"
        },
        "id": "Bz0g5aqDCPo2",
        "outputId": "3081902e-a6b2-48a5-bf1c-448503401bf9"
      },
      "execution_count": 14,
      "outputs": [
        {
          "output_type": "stream",
          "name": "stdout",
          "text": [
            "+--------+--------------------+--------------------+--------------------+------+-----------------+-----------+-------------------+\n",
            "|UniqueID|            drugName|           condition|              review|rating|             date|usefulCount|          sentiment|\n",
            "+--------+--------------------+--------------------+--------------------+------+-----------------+-----------+-------------------+\n",
            "|  206461|           Valsartan|Left Ventricular ...|\"It has no side e...|   9.0|     May 20, 2012|         27|                0.0|\n",
            "|   95260|          Guanfacine|                ADHD|\"My son is halfwa...|   8.0|   April 27, 2010|        192|0.16833333333333333|\n",
            "|   92703|              Lybrel|       Birth Control|\"I used to take a...|   5.0|December 14, 2009|         17|0.06720959595959597|\n",
            "|  138000|          Ortho Evra|       Birth Control|\"This is my first...|   8.0| November 3, 2015|         10|0.17954545454545456|\n",
            "|   35696|Buprenorphine / n...|   Opiate Dependence|\"Suboxone has com...|   9.0|November 27, 2016|         37|0.19444444444444445|\n",
            "+--------+--------------------+--------------------+--------------------+------+-----------------+-----------+-------------------+\n",
            "only showing top 5 rows\n",
            "\n"
          ]
        }
      ]
    },
    {
      "cell_type": "code",
      "source": [
        "df.select('sentiment').summary().show()"
      ],
      "metadata": {
        "colab": {
          "base_uri": "https://localhost:8080/"
        },
        "id": "AzPPwrRhHLhp",
        "outputId": "292198b7-49b0-4a51-9616-721260352bce"
      },
      "execution_count": 15,
      "outputs": [
        {
          "output_type": "stream",
          "name": "stdout",
          "text": [
            "+-------+--------------------+\n",
            "|summary|           sentiment|\n",
            "+-------+--------------------+\n",
            "|  count|              159498|\n",
            "|   mean| 0.06471531654907943|\n",
            "| stddev| 0.22233595288111896|\n",
            "|    min|                -1.0|\n",
            "|    25%|-0.04333333333333333|\n",
            "|    50%|0.057962962962962966|\n",
            "|    75%| 0.17353535353535351|\n",
            "|    max|                 1.0|\n",
            "+-------+--------------------+\n",
            "\n"
          ]
        }
      ]
    },
    {
      "cell_type": "markdown",
      "source": [
        "## Train model to predict star rating based off of the 'condition', 'usefulCount', and 'sentiment' with 'rating' as the target"
      ],
      "metadata": {
        "id": "Kx0kNHIZ9wKg"
      }
    },
    {
      "cell_type": "code",
      "source": [
        "from pyspark.ml.feature import StringIndexer, VectorAssembler\n",
        "from pyspark.ml.regression import RandomForestRegressor\n",
        "from pyspark.ml.evaluation import RegressionEvaluator\n",
        "from pyspark.ml import Pipeline"
      ],
      "metadata": {
        "id": "jhR6zLy5lWF5"
      },
      "execution_count": 16,
      "outputs": []
    },
    {
      "cell_type": "code",
      "source": [
        "df_train = df.drop('date', 'document', 'token', 'class')"
      ],
      "metadata": {
        "id": "qHyAOd1Jta7u"
      },
      "execution_count": 17,
      "outputs": []
    },
    {
      "cell_type": "code",
      "source": [
        "df_train.show()"
      ],
      "metadata": {
        "id": "0knNa4UnzWOa",
        "colab": {
          "base_uri": "https://localhost:8080/"
        },
        "outputId": "d0957014-a2ee-4e89-fc69-2898a76be67c"
      },
      "execution_count": 18,
      "outputs": [
        {
          "output_type": "stream",
          "name": "stdout",
          "text": [
            "+--------+--------------------+--------------------+--------------------+------+-----------+--------------------+\n",
            "|UniqueID|            drugName|           condition|              review|rating|usefulCount|           sentiment|\n",
            "+--------+--------------------+--------------------+--------------------+------+-----------+--------------------+\n",
            "|  206461|           Valsartan|Left Ventricular ...|\"It has no side e...|   9.0|         27|                 0.0|\n",
            "|   95260|          Guanfacine|                ADHD|\"My son is halfwa...|   8.0|        192| 0.16833333333333333|\n",
            "|   92703|              Lybrel|       Birth Control|\"I used to take a...|   5.0|         17| 0.06720959595959597|\n",
            "|  138000|          Ortho Evra|       Birth Control|\"This is my first...|   8.0|         10| 0.17954545454545456|\n",
            "|   35696|Buprenorphine / n...|   Opiate Dependence|\"Suboxone has com...|   9.0|         37| 0.19444444444444445|\n",
            "|  155963|              Cialis|Benign Prostatic ...|\"2nd day on 5mg s...|   2.0|         43|0.003472222222222219|\n",
            "|  165907|      Levonorgestrel|Emergency Contrac...|\"He pulled out, b...|   1.0|          5|  0.1111111111111111|\n",
            "|  102654|        Aripiprazole|     Bipolar Disorde|\"Abilify changed ...|  10.0|         32| 0.07410714285714284|\n",
            "|   74811|              Keppra|            Epilepsy|\" I Ve had  nothi...|   1.0|         11|                 0.2|\n",
            "|   48928|Ethinyl estradiol...|       Birth Control|\"I had been on th...|   8.0|          1| 0.07916666666666666|\n",
            "|   29607|          Topiramate| Migraine Prevention|\"I have been on t...|   9.0|         19| 0.17954545454545456|\n",
            "|   75612|      L-methylfolate|          Depression|\"I have taken ant...|  10.0|         54| 0.27499999999999997|\n",
            "|  191290|             Pentasa|     Crohn's Disease|\"I had Crohn&#039...|   4.0|          8|-0.10666666666666665|\n",
            "|  221320|    Dextromethorphan|               Cough|\"Have a little bi...|   4.0|          1|-0.03657407407407...|\n",
            "|   98494|           Nexplanon|       Birth Control|\"Started Nexplano...|   3.0|         10|0.021539115646258496|\n",
            "|   81890|         Liraglutide|             Obesity|\"I have been taki...|   9.0|         20| 0.20925925925925928|\n",
            "|   48188|        Trimethoprim|Urinary Tract Inf...|\"This drug worked...|   9.0|          0| 0.02909090909090909|\n",
            "|  219869|       Amitriptyline|         ibromyalgia|\"I&#039;ve been t...|   9.0|         39| 0.30833333333333335|\n",
            "|  212077|         Lamotrigine|     Bipolar Disorde|\"I&#039;ve been o...|  10.0|         18| 0.12833333333333338|\n",
            "|  119705|           Nilotinib|Chronic Myelogeno...|\"I have been on T...|  10.0|         11|-0.11142857142857146|\n",
            "+--------+--------------------+--------------------+--------------------+------+-----------+--------------------+\n",
            "only showing top 20 rows\n",
            "\n"
          ]
        }
      ]
    },
    {
      "cell_type": "code",
      "source": [
        "target = 'rating'\n",
        "numeric_cols = ['usefulCount','sentiment']\n",
        "#categorical_cols = ['condition']"
      ],
      "metadata": {
        "id": "X2_I3Hdak-tT"
      },
      "execution_count": 19,
      "outputs": []
    },
    {
      "cell_type": "code",
      "source": [
        "# Use String Indexer to convert categorical values to a numeric index\n",
        "#stringIndex = StringIndexer(inputCols=categorical_cols, handleInvalid='skip', outputCols=[x + \"_idx\" for x in categorical_cols])\n",
        "#stringIndex_model = stringIndex.fit(df_train)\n",
        "#train_df = stringIndex_model.transform(df_train).drop(*categorical_cols)"
      ],
      "metadata": {
        "id": "JLTlig6VlaoC"
      },
      "execution_count": 20,
      "outputs": []
    },
    {
      "cell_type": "code",
      "source": [
        "# Assemble the inputs into the format needed for the model\n",
        "assemblerInputs = numeric_cols \n",
        "vectorAssembler = VectorAssembler(inputCols= assemblerInputs, outputCol=\"features\")\n",
        "train_df = vectorAssembler.transform(df_train).select('features', target)"
      ],
      "metadata": {
        "id": "w-6m-2bAlWJR"
      },
      "execution_count": 21,
      "outputs": []
    },
    {
      "cell_type": "code",
      "source": [
        "train_df.show(5)"
      ],
      "metadata": {
        "id": "fBmj5KFqlqSI",
        "colab": {
          "base_uri": "https://localhost:8080/"
        },
        "outputId": "e7cc5cda-f5d1-4527-c788-064ce811f2ca"
      },
      "execution_count": 22,
      "outputs": [
        {
          "output_type": "stream",
          "name": "stdout",
          "text": [
            "+--------------------+------+\n",
            "|            features|rating|\n",
            "+--------------------+------+\n",
            "|          [27.0,0.0]|   9.0|\n",
            "|[192.0,0.16833333...|   8.0|\n",
            "|[17.0,0.067209595...|   5.0|\n",
            "|[10.0,0.179545454...|   8.0|\n",
            "|[37.0,0.194444444...|   9.0|\n",
            "+--------------------+------+\n",
            "only showing top 5 rows\n",
            "\n"
          ]
        }
      ]
    },
    {
      "cell_type": "code",
      "source": [
        "rf = RandomForestRegressor(labelCol=target)"
      ],
      "metadata": {
        "id": "k3hBLXeBlqel"
      },
      "execution_count": 120,
      "outputs": []
    },
    {
      "cell_type": "code",
      "source": [
        "pipeline_rf = Pipeline(stages= [vectorAssembler, rf]) "
      ],
      "metadata": {
        "id": "MDomrqxRlqh8"
      },
      "execution_count": 121,
      "outputs": []
    },
    {
      "cell_type": "code",
      "source": [
        "# Fit Random Forest Model with pipeline\n",
        "rf_pipelineModel = pipeline_rf.fit(df_train)"
      ],
      "metadata": {
        "id": "NuVjbbxzl2A6"
      },
      "execution_count": 122,
      "outputs": []
    },
    {
      "cell_type": "code",
      "source": [
        "train_preds = rf_pipelineModel.transform(df_train)"
      ],
      "metadata": {
        "id": "2Xo5yptql2Ef"
      },
      "execution_count": 123,
      "outputs": []
    },
    {
      "cell_type": "code",
      "source": [
        "# Select example rows to display.\n",
        "train_preds.show(5)"
      ],
      "metadata": {
        "colab": {
          "base_uri": "https://localhost:8080/"
        },
        "id": "cnu3fUT2BAXK",
        "outputId": "6d2d9215-fc42-44af-f9eb-0b7e48f12bb6"
      },
      "execution_count": 124,
      "outputs": [
        {
          "output_type": "stream",
          "name": "stdout",
          "text": [
            "+--------+--------------------+--------------------+--------------------+------+-----------+-------------------+--------------------+-----------------+\n",
            "|UniqueID|            drugName|           condition|              review|rating|usefulCount|          sentiment|            features|       prediction|\n",
            "+--------+--------------------+--------------------+--------------------+------+-----------+-------------------+--------------------+-----------------+\n",
            "|  206461|           Valsartan|Left Ventricular ...|\"It has no side e...|   9.0|         27|                0.0|          [27.0,0.0]|6.916662449983155|\n",
            "|   95260|          Guanfacine|                ADHD|\"My son is halfwa...|   8.0|        192|0.16833333333333333|[192.0,0.16833333...| 8.81945358190911|\n",
            "|   92703|              Lybrel|       Birth Control|\"I used to take a...|   5.0|         17|0.06720959595959597|[17.0,0.067209595...|7.041852692318409|\n",
            "|  138000|          Ortho Evra|       Birth Control|\"This is my first...|   8.0|         10|0.17954545454545456|[10.0,0.179545454...|7.611104410911286|\n",
            "|   35696|Buprenorphine / n...|   Opiate Dependence|\"Suboxone has com...|   9.0|         37|0.19444444444444445|[37.0,0.194444444...|8.376126602752306|\n",
            "+--------+--------------------+--------------------+--------------------+------+-----------+-------------------+--------------------+-----------------+\n",
            "only showing top 5 rows\n",
            "\n"
          ]
        }
      ]
    },
    {
      "cell_type": "code",
      "source": [
        "evaluator = RegressionEvaluator(labelCol=target, predictionCol=\"prediction\", metricName=\"rmse\")\n",
        "rmse = evaluator.evaluate(train_preds)\n",
        "print(\"Root Mean Squared Error (RMSE) on train data = %g\" % rmse)"
      ],
      "metadata": {
        "colab": {
          "base_uri": "https://localhost:8080/"
        },
        "id": "N-1pRY_qBJOI",
        "outputId": "d4a7a3f7-201c-46ae-ba7f-b45c1eb19555"
      },
      "execution_count": 125,
      "outputs": [
        {
          "output_type": "stream",
          "name": "stdout",
          "text": [
            "Root Mean Squared Error (RMSE) on train data = 2.93095\n"
          ]
        }
      ]
    },
    {
      "cell_type": "code",
      "source": [
        "# Drop unimportant columns for model \n",
        "df_test = df_test.drop('date', 'document', 'token', 'class')\n",
        "# Drop rows with missing values\n",
        "df_test = df_test.dropna()"
      ],
      "metadata": {
        "id": "H0O6sDDxl2Ho"
      },
      "execution_count": 126,
      "outputs": []
    },
    {
      "cell_type": "code",
      "source": [
        "## Drop rows where condition contains irrelevant strings\n",
        "df_test = df_test.where(~df_test.condition.contains(\"</span>\"))"
      ],
      "metadata": {
        "id": "fHWRSqmfugPN"
      },
      "execution_count": 127,
      "outputs": []
    },
    {
      "cell_type": "code",
      "source": [
        "df_test.count()"
      ],
      "metadata": {
        "id": "dXbFhJaJ0UJe",
        "colab": {
          "base_uri": "https://localhost:8080/"
        },
        "outputId": "ac9a6ab7-511a-4bc8-880d-e85824df23f2"
      },
      "execution_count": 31,
      "outputs": [
        {
          "output_type": "execute_result",
          "data": {
            "text/plain": [
              "53200"
            ]
          },
          "metadata": {},
          "execution_count": 31
        }
      ]
    },
    {
      "cell_type": "code",
      "source": [
        "df_test.show(5)"
      ],
      "metadata": {
        "id": "AORVs6_AmIeK",
        "colab": {
          "base_uri": "https://localhost:8080/"
        },
        "outputId": "4dab1554-dfba-4839-a418-dea931e2afb8"
      },
      "execution_count": 128,
      "outputs": [
        {
          "output_type": "stream",
          "name": "stdout",
          "text": [
            "+--------+---------------+--------------------+--------------------+------+-----------+-------------------+\n",
            "|UniqueID|       drugName|           condition|              review|rating|usefulCount|          sentiment|\n",
            "+--------+---------------+--------------------+--------------------+------+-----------+-------------------+\n",
            "|  163740|    Mirtazapine|          Depression|\"I&#039;ve tried ...|  10.0|         22|                0.0|\n",
            "|  206473|     Mesalamine|Crohn's Disease, ...|\"My son has Crohn...|   8.0|         17| 0.5666666666666667|\n",
            "|  159672|        Bactrim|Urinary Tract Inf...|\"Quick reduction ...|   9.0|          3| 0.3333333333333333|\n",
            "|   39293|       Contrave|         Weight Loss|\"Contrave combine...|   9.0|         35|          0.1390625|\n",
            "|   97768|Cyclafem 1 / 35|       Birth Control|\"I have been on t...|   9.0|          4|0.26092592592592595|\n",
            "+--------+---------------+--------------------+--------------------+------+-----------+-------------------+\n",
            "only showing top 5 rows\n",
            "\n"
          ]
        }
      ]
    },
    {
      "cell_type": "code",
      "source": [
        "df_test = df_test.drop('date', 'document', 'token', 'class')"
      ],
      "metadata": {
        "id": "5OVRqWA0JbEK"
      },
      "execution_count": 129,
      "outputs": []
    },
    {
      "cell_type": "code",
      "source": [
        "test_preds = rf_pipelineModel.transform(df_test)"
      ],
      "metadata": {
        "id": "ltee5CZgl_O_"
      },
      "execution_count": 130,
      "outputs": []
    },
    {
      "cell_type": "code",
      "source": [
        "# Select example rows to display.\n",
        "test_preds.show(5)"
      ],
      "metadata": {
        "colab": {
          "base_uri": "https://localhost:8080/"
        },
        "id": "hujDCcJuBcil",
        "outputId": "0726bc8f-c2bb-4284-acb7-851b6c10a4c2"
      },
      "execution_count": 135,
      "outputs": [
        {
          "output_type": "stream",
          "name": "stdout",
          "text": [
            "+--------+---------------+--------------------+--------------------+------+-----------+-------------------+--------------------+-----------------+\n",
            "|UniqueID|       drugName|           condition|              review|rating|usefulCount|          sentiment|            features|       prediction|\n",
            "+--------+---------------+--------------------+--------------------+------+-----------+-------------------+--------------------+-----------------+\n",
            "|  163740|    Mirtazapine|          Depression|\"I&#039;ve tried ...|  10.0|         22|                0.0|          [22.0,0.0]|6.777305461156617|\n",
            "|  206473|     Mesalamine|Crohn's Disease, ...|\"My son has Crohn...|   8.0|         17| 0.5666666666666667|[17.0,0.566666666...|8.468001601594787|\n",
            "|  159672|        Bactrim|Urinary Tract Inf...|\"Quick reduction ...|   9.0|          3| 0.3333333333333333|[3.0,0.3333333333...|7.621453931707793|\n",
            "|   39293|       Contrave|         Weight Loss|\"Contrave combine...|   9.0|         35|          0.1390625|    [35.0,0.1390625]|8.263170379343991|\n",
            "|   97768|Cyclafem 1 / 35|       Birth Control|\"I have been on t...|   9.0|          4|0.26092592592592595|[4.0,0.2609259259...|7.384948381218232|\n",
            "+--------+---------------+--------------------+--------------------+------+-----------+-------------------+--------------------+-----------------+\n",
            "only showing top 5 rows\n",
            "\n"
          ]
        }
      ]
    },
    {
      "cell_type": "code",
      "source": [
        "import matplotlib.pyplot as plt\n",
        "import numpy as np\n",
        "import seaborn as sns"
      ],
      "metadata": {
        "id": "HIyPcX52Ec5o"
      },
      "execution_count": 54,
      "outputs": []
    },
    {
      "cell_type": "code",
      "source": [
        "test_preds_df = test_preds.toPandas()"
      ],
      "metadata": {
        "id": "PVUW0i-yDvM6"
      },
      "execution_count": 132,
      "outputs": []
    },
    {
      "cell_type": "code",
      "source": [
        "test_preds_df['prediction_ints'] = np.rint(test_preds_df['prediction'])"
      ],
      "metadata": {
        "id": "3drXbmaLHJlp"
      },
      "execution_count": 133,
      "outputs": []
    },
    {
      "cell_type": "code",
      "source": [
        "sample_df = test_preds_df.sample(n=1000, random_state=1)"
      ],
      "metadata": {
        "id": "eQs5kRkXFjdj"
      },
      "execution_count": 136,
      "outputs": []
    },
    {
      "cell_type": "code",
      "source": [
        "def plotGraph(y_test,y_pred,regressorName):\n",
        "    ax = plt.subplot(111)\n",
        "    plt.scatter(range(len(y_test)), y_test,s=1, color='blue')\n",
        "    plt.scatter(range(len(y_pred)), y_pred,s=1, color='red')\n",
        "    plt.title(regressorName)\n",
        "    ax.legend(['Actual', 'Predicted'],loc='lower right')\n",
        "    plt.ylabel('Drug Rating')\n",
        "    plt.xlabel('Sample of 1000 Test-Set Observations')\n",
        "    plt.show()\n",
        "    return"
      ],
      "metadata": {
        "id": "e8rjqhlID-Am"
      },
      "execution_count": 146,
      "outputs": []
    },
    {
      "cell_type": "code",
      "source": [
        "plotGraph(sample_df['rating'], sample_df['prediction_ints'], \"Drug Ratings Predicted vs. Actual\")"
      ],
      "metadata": {
        "colab": {
          "base_uri": "https://localhost:8080/",
          "height": 295
        },
        "id": "EsIv8NkzEg1e",
        "outputId": "291a6a67-4e64-4767-9fcd-41be304a2022"
      },
      "execution_count": 147,
      "outputs": [
        {
          "output_type": "display_data",
          "data": {
            "text/plain": [
              "<Figure size 432x288 with 1 Axes>"
            ],
            "image/png": "[encoded data removed]"
          },
          "metadata": {
            "needs_background": "light"
          }
        }
      ]
    },
    {
      "cell_type": "code",
      "source": [
        "evaluator = RegressionEvaluator(labelCol=target, predictionCol=\"prediction\", metricName=\"rmse\")\n",
        "rmse = evaluator.evaluate(test_preds)\n",
        "print(\"Root Mean Squared Error (RMSE) on test data =\", rmse)"
      ],
      "metadata": {
        "id": "qUu7buu4l_TZ",
        "colab": {
          "base_uri": "https://localhost:8080/"
        },
        "outputId": "8f9d468a-9602-4c64-82a0-7c661d09b476"
      },
      "execution_count": 150,
      "outputs": [
        {
          "output_type": "stream",
          "name": "stdout",
          "text": [
            "Root Mean Squared Error (RMSE) on test data = 2.9471868507249805\n"
          ]
        }
      ]
    },
    {
      "cell_type": "code",
      "source": [
        "from sklearn.metrics import mean_squared_error\n",
        "rms = mean_squared_error(test_preds_df['rating'], test_preds_df['prediction_ints'], squared=False)\n",
        "print(\"RMSE with rounded predictions to nearest integer =\", rms)"
      ],
      "metadata": {
        "colab": {
          "base_uri": "https://localhost:8080/"
        },
        "id": "0ofVXIegI2ML",
        "outputId": "8c9c6acf-b393-4283-baed-0d53579baf0d"
      },
      "execution_count": 149,
      "outputs": [
        {
          "output_type": "stream",
          "name": "stdout",
          "text": [
            "RMSE with rounded predictions to nearest integer =  2.961482051245562\n"
          ]
        }
      ]
    },
    {
      "cell_type": "markdown",
      "source": [
        "### Write Out Model and Demo Inference Requirements"
      ],
      "metadata": {
        "id": "8MxoSL_1C7vY"
      }
    },
    {
      "cell_type": "code",
      "source": [
        "# https://www.sparkitecture.io/machine-learning/model-saving-and-loading"
      ],
      "metadata": {
        "id": "a4Zl5pJkBusD"
      },
      "execution_count": null,
      "outputs": []
    },
    {
      "cell_type": "code",
      "source": [
        "rf_pipelineModel.write().overwrite().save(working_folder + \"pipeline_saved_model\")"
      ],
      "metadata": {
        "id": "VTataTafDYPx"
      },
      "execution_count": null,
      "outputs": []
    },
    {
      "cell_type": "code",
      "source": [
        "from pyspark.ml import PipelineModel\n",
        "from textblob import TextBlob"
      ],
      "metadata": {
        "id": "j4EgZdHCCQXj"
      },
      "execution_count": null,
      "outputs": []
    },
    {
      "cell_type": "code",
      "source": [
        "review_sent = TextBlob('This drug is the worst!').sentiment.polarity"
      ],
      "metadata": {
        "id": "nr-H1c-jE-z0"
      },
      "execution_count": null,
      "outputs": []
    },
    {
      "cell_type": "code",
      "source": [
        "new_data = pd.DataFrame.from_dict({'usefulCount':[1],'sentiment':review_sent})"
      ],
      "metadata": {
        "id": "x2RZM72MCl69"
      },
      "execution_count": null,
      "outputs": []
    },
    {
      "cell_type": "code",
      "source": [
        "new_data = spark.createDataFrame(new_data)"
      ],
      "metadata": {
        "id": "MKTEv9bQEV0I"
      },
      "execution_count": null,
      "outputs": []
    },
    {
      "cell_type": "code",
      "source": [
        "new_data.show()"
      ],
      "metadata": {
        "id": "0VXp58J2CVPy"
      },
      "execution_count": null,
      "outputs": []
    },
    {
      "cell_type": "code",
      "source": [
        "test_pipelineModel = PipelineModel.load(working_folder + 'pipeline_saved_model')"
      ],
      "metadata": {
        "id": "iFkaJzjqD8mF"
      },
      "execution_count": null,
      "outputs": []
    },
    {
      "cell_type": "code",
      "source": [
        "test_pipelineModel.transform(new_data).show()"
      ],
      "metadata": {
        "id": "dNk6GqwTEKst"
      },
      "execution_count": null,
      "outputs": []
    },
    {
      "cell_type": "markdown",
      "source": [
        "# Attempt at Using John Snow Labs pretrained sentiment model pipeline\n",
        "https://nlp.johnsnowlabs.com/\n",
        "\n",
        "Medium Article: \n",
        "https://medium.com/analytics-vidhya/sentiment-analysis-with-sparknlp-couldnt-be-easier-2a8ea3b728a0\n",
        "\n",
        "John Snow Labs Reference Notebook: \n",
        "https://colab.research.google.com/github/JohnSnowLabs/spark-nlp-workshop/blob/master/jupyter/quick_start_google_colab.ipynb#scrollTo=tyMMD_upEfIa\n",
        "\n",
        "This model using BioBERT would potentially perform better, but it is not free-tier:\n",
        "https://nlp.johnsnowlabs.com/2022/07/28/bert_sequence_classifier_drug_reviews_webmd_en_3_0.html\n",
        "\n",
        "Breakdown how pretrained pipeline works under the hood: https://colab.research.google.com/github/JohnSnowLabs/spark-nlp-workshop/blob/master/tutorials/streamlit_notebooks/SENTIMENT_EN.ipynb"
      ],
      "metadata": {
        "id": "ouSfCBo-RgH7"
      }
    },
    {
      "cell_type": "code",
      "source": [
        "pipeline = PretrainedPipeline('analyze_sentimentdl_use_twitter', 'en')"
      ],
      "metadata": {
        "colab": {
          "base_uri": "https://localhost:8080/"
        },
        "id": "o7wglGlsIhh1",
        "outputId": "805b3980-a4c1-4ce4-b218-e87639fd9cd4"
      },
      "execution_count": null,
      "outputs": [
        {
          "output_type": "stream",
          "name": "stdout",
          "text": [
            "analyze_sentimentdl_use_twitter download started this may take some time.\n",
            "Approx size to download 935.1 MB\n",
            "[OK!]\n"
          ]
        }
      ]
    },
    {
      "cell_type": "code",
      "source": [
        "pipeline.model.stages"
      ],
      "metadata": {
        "colab": {
          "base_uri": "https://localhost:8080/"
        },
        "id": "k4UENK7hUaPb",
        "outputId": "bc0371e2-04d4-4c38-8e64-ce906768c978"
      },
      "execution_count": null,
      "outputs": [
        {
          "output_type": "execute_result",
          "data": {
            "text/plain": [
              "[DocumentAssembler_bc88e2e1b2ae,\n",
              " UNIVERSAL_SENTENCE_ENCODER_4de71669b7ec,\n",
              " SentimentDLModel_eca587b575f7]"
            ]
          },
          "metadata": {},
          "execution_count": 18
        }
      ]
    },
    {
      "cell_type": "markdown",
      "source": [
        "Universal Sentence Encoder: https://nlp.johnsnowlabs.com/2020/04/17/tfhub_use.html"
      ],
      "metadata": {
        "id": "z6aZfa-4Vj1E"
      }
    },
    {
      "cell_type": "code",
      "source": [
        "# rename the text column as 'text', pipeline expects 'text' \n",
        "df_result = pipeline.transform(df.withColumnRenamed(\"review\", \"text\"))"
      ],
      "metadata": {
        "id": "vqgNtxckLbDS"
      },
      "execution_count": null,
      "outputs": []
    },
    {
      "cell_type": "code",
      "source": [
        "test = pipeline.annotate(\"Holy Hell is exactly how I feel. I had been taking Brisdelle for 1.5 years. The hot flashes did indeed subside - however, the side affects of this medicine coupled with the fact Noven was acquired by YET another pharmaceutical company - YOU CAN&#039;T PLACE A REP IN THE AREA, DISTRIBUTE YOUR DRUGS, AND THEN FIRE HER-AND NOT REPLACE THEREFORE there is NO medicine or support here. You dumped this drug in the Dr&#039;s hands and walked away. After calling Sebula - you act like you don&#039;t even care. You have made it impossible to obtain this. I happen to think this is illegal.  I just decided to wean myself off this and Premarin. It has been nothing short of a nightmare. If you don&#039;t need this drug- DON&#039;T START. Seriously.\")"
      ],
      "metadata": {
        "id": "SBlsE6M4tYVG"
      },
      "execution_count": null,
      "outputs": []
    },
    {
      "cell_type": "code",
      "source": [
        "test"
      ],
      "metadata": {
        "colab": {
          "base_uri": "https://localhost:8080/"
        },
        "id": "Uy9qmO1etg50",
        "outputId": "60752ee9-e381-4e3b-a9b4-c172615e5297"
      },
      "execution_count": null,
      "outputs": [
        {
          "output_type": "execute_result",
          "data": {
            "text/plain": [
              "{'document': ['Holy Hell is exactly how I feel. I had been taking Brisdelle for 1.5 years. The hot flashes did indeed subside - however, the side affects of this medicine coupled with the fact Noven was acquired by YET another pharmaceutical company - YOU CAN&#039;T PLACE A REP IN THE AREA, DISTRIBUTE YOUR DRUGS, AND THEN FIRE HER-AND NOT REPLACE THEREFORE there is NO medicine or support here. You dumped this drug in the Dr&#039;s hands and walked away. After calling Sebula - you act like you don&#039;t even care. You have made it impossible to obtain this. I happen to think this is illegal.  I just decided to wean myself off this and Premarin. It has been nothing short of a nightmare. If you don&#039;t need this drug- DON&#039;T START. Seriously.'],\n",
              " 'sentence_embeddings': ['Holy Hell is exactly how I feel. I had been taking Brisdelle for 1.5 years. The hot flashes did indeed subside - however, the side affects of this medicine coupled with the fact Noven was acquired by YET another pharmaceutical company - YOU CAN&#039;T PLACE A REP IN THE AREA, DISTRIBUTE YOUR DRUGS, AND THEN FIRE HER-AND NOT REPLACE THEREFORE there is NO medicine or support here. You dumped this drug in the Dr&#039;s hands and walked away. After calling Sebula - you act like you don&#039;t even care. You have made it impossible to obtain this. I happen to think this is illegal.  I just decided to wean myself off this and Premarin. It has been nothing short of a nightmare. If you don&#039;t need this drug- DON&#039;T START. Seriously.'],\n",
              " 'sentiment': ['negative']}"
            ]
          },
          "metadata": {},
          "execution_count": 21
        }
      ]
    },
    {
      "cell_type": "code",
      "source": [
        "print(df_result)"
      ],
      "metadata": {
        "colab": {
          "base_uri": "https://localhost:8080/"
        },
        "id": "yWRl_hJQMKDU",
        "outputId": "a0a5d57b-9708-45ad-a84a-c035d488dc4a"
      },
      "execution_count": null,
      "outputs": [
        {
          "output_type": "stream",
          "name": "stdout",
          "text": [
            "DataFrame[UniqueID: int, drugName: string, condition: string, text: string, rating: double, date: string, usefulCount: int, document: array<struct<annotatorType:string,begin:int,end:int,result:string,metadata:map<string,string>,embeddings:array<float>>>, sentence_embeddings: array<struct<annotatorType:string,begin:int,end:int,result:string,metadata:map<string,string>,embeddings:array<float>>>, sentiment: array<struct<annotatorType:string,begin:int,end:int,result:string,metadata:map<string,string>,embeddings:array<float>>>]\n"
          ]
        }
      ]
    },
    {
      "cell_type": "code",
      "source": [
        "# extract results from \"sentiments\" column\n",
        "df_result = df_result.withColumn(\"sentiment\", explode('sentiment.result'))"
      ],
      "metadata": {
        "id": "ObOcd6FwdkZm"
      },
      "execution_count": null,
      "outputs": []
    },
    {
      "cell_type": "code",
      "source": [
        "df_result.show()"
      ],
      "metadata": {
        "colab": {
          "base_uri": "https://localhost:8080/"
        },
        "id": "aTy79Dp9khuM",
        "outputId": "a0fc55b1-4e97-46a8-f9bf-37100960eeee"
      },
      "execution_count": null,
      "outputs": [
        {
          "output_type": "stream",
          "name": "stdout",
          "text": [
            "+--------+--------------------+--------------------+--------------------+------+------------------+-----------+--------------------+--------------------+---------+\n",
            "|UniqueID|            drugName|           condition|                text|rating|              date|usefulCount|            document| sentence_embeddings|sentiment|\n",
            "+--------+--------------------+--------------------+--------------------+------+------------------+-----------+--------------------+--------------------+---------+\n",
            "|  206461|           Valsartan|Left Ventricular ...|\"It has no side e...|   9.0|      May 20, 2012|         27|[{document, 0, 78...|[{sentence_embedd...| negative|\n",
            "|   95260|          Guanfacine|                ADHD|\"My son is halfwa...|   8.0|    April 27, 2010|        192|[{document, 0, 73...|[{sentence_embedd...| negative|\n",
            "|   92703|              Lybrel|       Birth Control|\"I used to take a...|   5.0| December 14, 2009|         17|[{document, 0, 75...|[{sentence_embedd...| negative|\n",
            "|  138000|          Ortho Evra|       Birth Control|\"This is my first...|   8.0|  November 3, 2015|         10|[{document, 0, 44...|[{sentence_embedd...| negative|\n",
            "|   35696|Buprenorphine / n...|   Opiate Dependence|\"Suboxone has com...|   9.0| November 27, 2016|         37|[{document, 0, 71...|[{sentence_embedd...| positive|\n",
            "|  155963|              Cialis|Benign Prostatic ...|\"2nd day on 5mg s...|   2.0| November 28, 2015|         43|[{document, 0, 40...|[{sentence_embedd...| negative|\n",
            "|  165907|      Levonorgestrel|Emergency Contrac...|\"He pulled out, b...|   1.0|     March 7, 2017|          5|[{document, 0, 14...|[{sentence_embedd...| negative|\n",
            "|  102654|        Aripiprazole|     Bipolar Disorde|\"Abilify changed ...|  10.0|    March 14, 2015|         32|[{document, 0, 73...|[{sentence_embedd...| positive|\n",
            "|   74811|              Keppra|            Epilepsy|\" I Ve had  nothi...|   1.0|    August 9, 2016|         11|[{document, 0, 19...|[{sentence_embedd...| negative|\n",
            "|   48928|Ethinyl estradiol...|       Birth Control|\"I had been on th...|   8.0|  December 8, 2016|          1|[{document, 0, 73...|[{sentence_embedd...| negative|\n",
            "|   29607|          Topiramate| Migraine Prevention|\"I have been on t...|   9.0|   January 1, 2015|         19|[{document, 0, 72...|[{sentence_embedd...| negative|\n",
            "|   75612|      L-methylfolate|          Depression|\"I have taken ant...|  10.0|     March 9, 2017|         54|[{document, 0, 45...|[{sentence_embedd...| positive|\n",
            "|  191290|             Pentasa|     Crohn's Disease|\"I had Crohn&#039...|   4.0|      July 6, 2013|          8|[{document, 0, 40...|[{sentence_embedd...| negative|\n",
            "|  221320|    Dextromethorphan|               Cough|\"Have a little bi...|   4.0| September 7, 2017|          1|[{document, 0, 59...|[{sentence_embedd...| negative|\n",
            "|   98494|           Nexplanon|       Birth Control|\"Started Nexplano...|   3.0|    August 7, 2014|         10|[{document, 0, 78...|[{sentence_embedd...| negative|\n",
            "|   81890|         Liraglutide|             Obesity|\"I have been taki...|   9.0|  January 19, 2017|         20|[{document, 0, 73...|[{sentence_embedd...| positive|\n",
            "|   48188|        Trimethoprim|Urinary Tract Inf...|\"This drug worked...|   9.0|September 22, 2017|          0|[{document, 0, 67...|[{sentence_embedd...| negative|\n",
            "|  219869|       Amitriptyline|         ibromyalgia|\"I&#039;ve been t...|   9.0|    March 15, 2017|         39|[{document, 0, 71...|[{sentence_embedd...| negative|\n",
            "|  212077|         Lamotrigine|     Bipolar Disorde|\"I&#039;ve been o...|  10.0|  November 9, 2014|         18|[{document, 0, 76...|[{sentence_embedd...| negative|\n",
            "|  119705|           Nilotinib|Chronic Myelogeno...|\"I have been on T...|  10.0| September 1, 2015|         11|[{document, 0, 47...|[{sentence_embedd...| negative|\n",
            "+--------+--------------------+--------------------+--------------------+------+------------------+-----------+--------------------+--------------------+---------+\n",
            "only showing top 20 rows\n",
            "\n"
          ]
        }
      ]
    }
  ]
}