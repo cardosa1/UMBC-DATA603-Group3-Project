{
  "nbformat": 4,
  "nbformat_minor": 0,
  "metadata": {
    "colab": {
      "provenance": [],
      "machine_shape": "hm"
    },
    "kernelspec": {
      "name": "python3",
      "display_name": "Python 3"
    },
    "language_info": {
      "name": "python"
    },
    "gpuClass": "standard"
  },
  "cells": [
    {
      "cell_type": "markdown",
      "source": [
        "# DATA603 Big Data Processing Project \n",
        "Group 3: Pooja Kangokar Pranesh, Yun-Zih Chen, Elizabeth Cardosa\n",
        "\n",
        "The goal of this project is leverage big data technologies to train a model using the UCI ML Drug Review dataset to predict the star rating of drug based on the sentiment of the review. This model will then perform inference in a streaming manner on ‘real-time’ reviews coming in. This application can then be used to help potential customers understand the overall sentiment towards a drug and if it might be useful for them. \n"
      ],
      "metadata": {
        "id": "f6WifCaLDGcN"
      }
    },
    {
      "cell_type": "code",
      "execution_count": 1,
      "metadata": {
        "colab": {
          "base_uri": "https://localhost:8080/"
        },
        "id": "QOjNnpYbBbOO",
        "outputId": "dc9cb8a3-ad8c-4280-e35b-df028477d228"
      },
      "outputs": [
        {
          "output_type": "stream",
          "name": "stdout",
          "text": [
            "Drive already mounted at /content/drive; to attempt to forcibly remount, call drive.mount(\"/content/drive\", force_remount=True).\n"
          ]
        }
      ],
      "source": [
        "from google.colab import drive\n",
        "drive.mount('/content/drive')"
      ]
    },
    {
      "cell_type": "code",
      "source": [
        "working_folder = \"/content/drive/My Drive/UMBC Fall 2022/DATA603 Big Data Processing/Project/Data/\""
      ],
      "metadata": {
        "id": "PIZxklXOCF68"
      },
      "execution_count": 2,
      "outputs": []
    },
    {
      "cell_type": "markdown",
      "source": [
        "# Install Libraries and Dependencies"
      ],
      "metadata": {
        "id": "XmKrGUucF-Iv"
      }
    },
    {
      "cell_type": "code",
      "source": [
        "# Install PySpark and Spark NLP\n",
        "! pip install -qq pyspark==3.2.1 findspark #pyspark==3.1.2 spark-nlp findspark"
      ],
      "metadata": {
        "id": "-x6Yo--BrPS5"
      },
      "execution_count": 3,
      "outputs": []
    },
    {
      "cell_type": "code",
      "source": [
        "import pyspark.pandas as ps\n",
        "import pandas as pd"
      ],
      "metadata": {
        "colab": {
          "base_uri": "https://localhost:8080/"
        },
        "id": "YXvkRIb6DFc3",
        "outputId": "334ffddd-1859-417d-ae98-d1a422b8f424"
      },
      "execution_count": 4,
      "outputs": [
        {
          "output_type": "stream",
          "name": "stderr",
          "text": [
            "WARNING:root:'PYARROW_IGNORE_TIMEZONE' environment variable was not set. It is required to set this environment variable to '1' in both driver and executor sides if you use pyarrow>=2.0.0. pandas-on-Spark will set it for you but it does not work if there is a Spark context already launched.\n"
          ]
        }
      ]
    },
    {
      "cell_type": "code",
      "source": [
        "from pyspark.sql.types import *\n",
        "from pyspark.sql.functions import *\n",
        "from pyspark.sql import SparkSession\n",
        "from pyspark import SparkContext\n",
        "import findspark"
      ],
      "metadata": {
        "id": "aO-Tc6NMDRRn"
      },
      "execution_count": 5,
      "outputs": []
    },
    {
      "cell_type": "code",
      "source": [
        "# To initialize PySpark\n",
        "findspark.init()\n",
        "#To verify the automatically detected location\n",
        "findspark.find ()\n",
        "# Create a Spark Session\n",
        "spark = SparkSession.builder.master(\"local[*]\").getOrCreate()\n",
        "# Check Spark Session Information\n",
        "spark"
      ],
      "metadata": {
        "colab": {
          "base_uri": "https://localhost:8080/",
          "height": 223
        },
        "id": "Cpep-Y83IgNN",
        "outputId": "91e2f00b-3253-468c-bcae-fc85799a0291"
      },
      "execution_count": 6,
      "outputs": [
        {
          "output_type": "execute_result",
          "data": {
            "text/plain": [
              "<pyspark.sql.session.SparkSession at 0x7f688c3a1e90>"
            ],
            "text/html": [
              "\n",
              "            <div>\n",
              "                <p><b>SparkSession - in-memory</b></p>\n",
              "                \n",
              "        <div>\n",
              "            <p><b>SparkContext</b></p>\n",
              "\n",
              "            <p><a href=\"http://960a0ce40893:4040\">Spark UI</a></p>\n",
              "\n",
              "            <dl>\n",
              "              <dt>Version</dt>\n",
              "                <dd><code>v3.2.1</code></dd>\n",
              "              <dt>Master</dt>\n",
              "                <dd><code>local[*]</code></dd>\n",
              "              <dt>AppName</dt>\n",
              "                <dd><code>pyspark-shell</code></dd>\n",
              "            </dl>\n",
              "        </div>\n",
              "        \n",
              "            </div>\n",
              "        "
            ]
          },
          "metadata": {},
          "execution_count": 6
        }
      ]
    },
    {
      "cell_type": "code",
      "source": [
        "sc = SparkContext.getOrCreate();"
      ],
      "metadata": {
        "id": "MrG8uo1zjfU2"
      },
      "execution_count": 7,
      "outputs": []
    },
    {
      "cell_type": "markdown",
      "source": [
        "# Read-in Dataset\n"
      ],
      "metadata": {
        "id": "ll9VMsHzGDOh"
      }
    },
    {
      "cell_type": "markdown",
      "source": [
        "## Dataset: https://archive.ics.uci.edu/ml/datasets/Drug+Review+Dataset+%28Drugs.com%29\n"
      ],
      "metadata": {
        "id": "W2pmNadvonZi"
      }
    },
    {
      "cell_type": "markdown",
      "source": [
        "The dataset provides patient reviews on specific drugs along with related conditions and a 10 star patient rating reflecting overall patient satisfaction. The data was obtained by crawling online pharmaceutical review sites. The intention was to study\n",
        "\n",
        "- sentiment analysis of drug experience over multiple facets, i.e. sentiments learned on specific aspects such as effectiveness and side effects,\n",
        "- the transferability of models among domains, i.e. conditions, and\n",
        "- the transferability of models among different data sources (see 'Drug Review Dataset (Druglib.com)').\n",
        "\n",
        "The data is split into a train (75%) a test (25%) partition (see publication) and stored in two .tsv (tab-separated-values) files, respectively.\n",
        "\n",
        "Attribute Information:\n",
        "\n",
        "1. drugName (categorical): name of drug\n",
        "2. condition (categorical): name of condition\n",
        "3. review (text): patient review\n",
        "4. rating (numerical): 10 star patient rating\n",
        "5. date (date): date of review entry\n",
        "6. usefulCount (numerical): number of users who found review useful\n"
      ],
      "metadata": {
        "id": "ZXFtRQpRoiom"
      }
    },
    {
      "cell_type": "markdown",
      "source": [
        "Important notes:\n",
        "\n",
        "When using this dataset, you agree that you\n",
        "1. only use the data for research purposes\n",
        "2. don't use the data for any commerical purposes\n",
        "3. don't distribute the data to anyone else\n",
        "4. cite us\n",
        "\n",
        "Felix Gräßer, Surya Kallumadi, Hagen Malberg, and Sebastian Zaunseder. 2018. Aspect-Based Sentiment Analysis of Drug Reviews Applying Cross-Domain and Cross-Data Learning. In Proceedings of the 2018 International Conference on Digital Health (DH '18). ACM, New York, NY, USA, 121-125. DOI: [Web Link] "
      ],
      "metadata": {
        "id": "0xOlCh2ISk6v"
      }
    },
    {
      "cell_type": "markdown",
      "source": [
        "## Load in Test Data"
      ],
      "metadata": {
        "id": "xnVpV1iaHchm"
      }
    },
    {
      "cell_type": "code",
      "source": [
        "# Read in training data file\n",
        "customschema = StructType([\n",
        "  StructField(\"UniqueID\", IntegerType(), True)\n",
        "  ,StructField(\"drugName\", StringType(), True)\n",
        "  ,StructField(\"condition\", StringType(), True)\n",
        "  ,StructField(\"review\", StringType(), True)\n",
        "  ,StructField(\"rating\", DoubleType(), True)\n",
        "  ,StructField(\"date\", StringType(), True)\n",
        "  ,StructField(\"usefulCount\", IntegerType(), True)\n",
        "  ,StructField(\"sentiment\", DoubleType(), True)\n",
        "  ])"
      ],
      "metadata": {
        "id": "o4220ehFHerX"
      },
      "execution_count": 8,
      "outputs": []
    },
    {
      "cell_type": "code",
      "source": [
        "df_test = spark.read.format(\"csv\")\\\n",
        "           .option(\"delimiter\", \"|\")\\\n",
        "           .option(\"header\", \"true\")\\\n",
        "           .option(\"quote\", \"\\\"\")\\\n",
        "           .option(\"escape\", \"\\\"\")\\\n",
        "           .option(\"multiLine\",\"true\")\\\n",
        "           .option(\"quoteMode\",\"ALL\")\\\n",
        "           .option(\"mode\",\"PERMISSIVE\")\\\n",
        "           .option(\"ignoreLeadingWhiteSpace\",\"true\")\\\n",
        "           .option(\"ignoreTrailingWhiteSpace\",\"true\")\\\n",
        "           .option(\"parserLib\",\"UNIVOCITY\")\\\n",
        "           .schema(customschema)\\\n",
        "           .load(working_folder + \"drug_reviews_with_sentiment_test.csv\")"
      ],
      "metadata": {
        "id": "prmAhNSIHiZ5"
      },
      "execution_count": 9,
      "outputs": []
    },
    {
      "cell_type": "code",
      "source": [
        "df_test.count()"
      ],
      "metadata": {
        "colab": {
          "base_uri": "https://localhost:8080/"
        },
        "id": "yUfc5E3WpH3a",
        "outputId": "3140c956-1ee6-497a-a2ca-e577b439f080"
      },
      "execution_count": 10,
      "outputs": [
        {
          "output_type": "execute_result",
          "data": {
            "text/plain": [
              "53200"
            ]
          },
          "metadata": {},
          "execution_count": 10
        }
      ]
    },
    {
      "cell_type": "code",
      "source": [
        "df_test.show(5)"
      ],
      "metadata": {
        "colab": {
          "base_uri": "https://localhost:8080/"
        },
        "id": "tHClVhv7HmUu",
        "outputId": "bfcbb6fc-7da6-4949-dd36-46753a6712fe"
      },
      "execution_count": 11,
      "outputs": [
        {
          "output_type": "stream",
          "name": "stdout",
          "text": [
            "+--------+---------------+--------------------+--------------------+------+------------------+-----------+-------------------+\n",
            "|UniqueID|       drugName|           condition|              review|rating|              date|usefulCount|          sentiment|\n",
            "+--------+---------------+--------------------+--------------------+------+------------------+-----------+-------------------+\n",
            "|  163740|    Mirtazapine|          Depression|\"I&#039;ve tried ...|  10.0| February 28, 2012|         22|                0.0|\n",
            "|  206473|     Mesalamine|Crohn's Disease, ...|\"My son has Crohn...|   8.0|      May 17, 2009|         17| 0.5666666666666667|\n",
            "|  159672|        Bactrim|Urinary Tract Inf...|\"Quick reduction ...|   9.0|September 29, 2017|          3| 0.3333333333333333|\n",
            "|   39293|       Contrave|         Weight Loss|\"Contrave combine...|   9.0|     March 5, 2017|         35|          0.1390625|\n",
            "|   97768|Cyclafem 1 / 35|       Birth Control|\"I have been on t...|   9.0|  October 22, 2015|          4|0.26092592592592595|\n",
            "+--------+---------------+--------------------+--------------------+------+------------------+-----------+-------------------+\n",
            "only showing top 5 rows\n",
            "\n"
          ]
        }
      ]
    },
    {
      "cell_type": "markdown",
      "source": [
        "## Load in and Explore Training Data"
      ],
      "metadata": {
        "id": "a6Ky5tG_HWjQ"
      }
    },
    {
      "cell_type": "code",
      "source": [
        "# Read in training data file\n",
        "customschema = StructType([\n",
        "  StructField(\"UniqueID\", IntegerType(), True)\n",
        "  ,StructField(\"drugName\", StringType(), True)\n",
        "  ,StructField(\"condition\", StringType(), True)\n",
        "  ,StructField(\"review\", StringType(), True)\n",
        "  ,StructField(\"rating\", DoubleType(), True)\n",
        "  ,StructField(\"date\", StringType(), True)\n",
        "  ,StructField(\"usefulCount\", IntegerType(), True)\n",
        "  ,StructField(\"sentiment\", DoubleType(), True)\n",
        "  ])\n",
        "\n",
        "df = spark.read.format(\"csv\")\\\n",
        "           .option(\"delimiter\", \"|\")\\\n",
        "           .option(\"header\", \"true\")\\\n",
        "           .option(\"escape\", \"\\\"\")\\\n",
        "           .option(\"multiLine\",\"true\")\\\n",
        "           .option(\"quoteMode\",\"ALL\")\\\n",
        "           .option(\"mode\",\"PERMISSIVE\")\\\n",
        "           .option(\"ignoreLeadingWhiteSpace\",\"true\")\\\n",
        "           .option(\"ignoreTrailingWhiteSpace\",\"true\")\\\n",
        "           .option(\"parserLib\",\"UNIVOCITY\")\\\n",
        "           .schema(customschema)\\\n",
        "           .load(working_folder + \"drug_reviews_with_sentiment_train.csv\")"
      ],
      "metadata": {
        "id": "9WMlYS-iCGEW"
      },
      "execution_count": 12,
      "outputs": []
    },
    {
      "cell_type": "code",
      "source": [
        "df.count()"
      ],
      "metadata": {
        "colab": {
          "base_uri": "https://localhost:8080/"
        },
        "id": "nocaGG4bfmex",
        "outputId": "a1f5654d-3e8f-4b70-edd7-72f3340e3ddc"
      },
      "execution_count": 13,
      "outputs": [
        {
          "output_type": "execute_result",
          "data": {
            "text/plain": [
              "159498"
            ]
          },
          "metadata": {},
          "execution_count": 13
        }
      ]
    },
    {
      "cell_type": "code",
      "source": [
        "df.show(5)"
      ],
      "metadata": {
        "colab": {
          "base_uri": "https://localhost:8080/"
        },
        "id": "Bz0g5aqDCPo2",
        "outputId": "b95a56a4-7417-4996-b8d2-cec4f200f5df"
      },
      "execution_count": 14,
      "outputs": [
        {
          "output_type": "stream",
          "name": "stdout",
          "text": [
            "+--------+--------------------+--------------------+--------------------+------+-----------------+-----------+-------------------+\n",
            "|UniqueID|            drugName|           condition|              review|rating|             date|usefulCount|          sentiment|\n",
            "+--------+--------------------+--------------------+--------------------+------+-----------------+-----------+-------------------+\n",
            "|  206461|           Valsartan|Left Ventricular ...|\"It has no side e...|   9.0|     May 20, 2012|         27|                0.0|\n",
            "|   95260|          Guanfacine|                ADHD|\"My son is halfwa...|   8.0|   April 27, 2010|        192|0.16833333333333333|\n",
            "|   92703|              Lybrel|       Birth Control|\"I used to take a...|   5.0|December 14, 2009|         17|0.06720959595959597|\n",
            "|  138000|          Ortho Evra|       Birth Control|\"This is my first...|   8.0| November 3, 2015|         10|0.17954545454545456|\n",
            "|   35696|Buprenorphine / n...|   Opiate Dependence|\"Suboxone has com...|   9.0|November 27, 2016|         37|0.19444444444444445|\n",
            "+--------+--------------------+--------------------+--------------------+------+-----------------+-----------+-------------------+\n",
            "only showing top 5 rows\n",
            "\n"
          ]
        }
      ]
    },
    {
      "cell_type": "code",
      "source": [
        "df.select('sentiment').summary().show()"
      ],
      "metadata": {
        "colab": {
          "base_uri": "https://localhost:8080/"
        },
        "id": "AzPPwrRhHLhp",
        "outputId": "e61c9e13-2c67-4e25-ba09-93d819a7f2b9"
      },
      "execution_count": 15,
      "outputs": [
        {
          "output_type": "stream",
          "name": "stdout",
          "text": [
            "+-------+--------------------+\n",
            "|summary|           sentiment|\n",
            "+-------+--------------------+\n",
            "|  count|              159498|\n",
            "|   mean| 0.06471531654907943|\n",
            "| stddev| 0.22233595288111896|\n",
            "|    min|                -1.0|\n",
            "|    25%|-0.04333333333333333|\n",
            "|    50%|0.057962962962962966|\n",
            "|    75%| 0.17353535353535351|\n",
            "|    max|                 1.0|\n",
            "+-------+--------------------+\n",
            "\n"
          ]
        }
      ]
    },
    {
      "cell_type": "markdown",
      "source": [
        "## TODO: Train model to predict star rating based off of the 'condition', 'usefulCount', and 'sentiment' with 'rating' as the target"
      ],
      "metadata": {
        "id": "Kx0kNHIZ9wKg"
      }
    },
    {
      "cell_type": "code",
      "source": [
        "from pyspark.ml.feature import StringIndexer, VectorAssembler\n",
        "from pyspark.ml.regression import RandomForestRegressor\n",
        "from pyspark.ml.evaluation import RegressionEvaluator\n",
        "from pyspark.ml import Pipeline"
      ],
      "metadata": {
        "id": "jhR6zLy5lWF5"
      },
      "execution_count": 16,
      "outputs": []
    },
    {
      "cell_type": "code",
      "source": [
        "df_train = df.drop('date', 'document', 'token', 'class')"
      ],
      "metadata": {
        "id": "qHyAOd1Jta7u"
      },
      "execution_count": 17,
      "outputs": []
    },
    {
      "cell_type": "code",
      "source": [
        "df_train.show()"
      ],
      "metadata": {
        "id": "0knNa4UnzWOa",
        "colab": {
          "base_uri": "https://localhost:8080/"
        },
        "outputId": "270a01b1-61e7-40fe-9b40-b7dd8291e315"
      },
      "execution_count": 18,
      "outputs": [
        {
          "output_type": "stream",
          "name": "stdout",
          "text": [
            "+--------+--------------------+--------------------+--------------------+------+-----------+--------------------+\n",
            "|UniqueID|            drugName|           condition|              review|rating|usefulCount|           sentiment|\n",
            "+--------+--------------------+--------------------+--------------------+------+-----------+--------------------+\n",
            "|  206461|           Valsartan|Left Ventricular ...|\"It has no side e...|   9.0|         27|                 0.0|\n",
            "|   95260|          Guanfacine|                ADHD|\"My son is halfwa...|   8.0|        192| 0.16833333333333333|\n",
            "|   92703|              Lybrel|       Birth Control|\"I used to take a...|   5.0|         17| 0.06720959595959597|\n",
            "|  138000|          Ortho Evra|       Birth Control|\"This is my first...|   8.0|         10| 0.17954545454545456|\n",
            "|   35696|Buprenorphine / n...|   Opiate Dependence|\"Suboxone has com...|   9.0|         37| 0.19444444444444445|\n",
            "|  155963|              Cialis|Benign Prostatic ...|\"2nd day on 5mg s...|   2.0|         43|0.003472222222222219|\n",
            "|  165907|      Levonorgestrel|Emergency Contrac...|\"He pulled out, b...|   1.0|          5|  0.1111111111111111|\n",
            "|  102654|        Aripiprazole|     Bipolar Disorde|\"Abilify changed ...|  10.0|         32| 0.07410714285714284|\n",
            "|   74811|              Keppra|            Epilepsy|\" I Ve had  nothi...|   1.0|         11|                 0.2|\n",
            "|   48928|Ethinyl estradiol...|       Birth Control|\"I had been on th...|   8.0|          1| 0.07916666666666666|\n",
            "|   29607|          Topiramate| Migraine Prevention|\"I have been on t...|   9.0|         19| 0.17954545454545456|\n",
            "|   75612|      L-methylfolate|          Depression|\"I have taken ant...|  10.0|         54| 0.27499999999999997|\n",
            "|  191290|             Pentasa|     Crohn's Disease|\"I had Crohn&#039...|   4.0|          8|-0.10666666666666665|\n",
            "|  221320|    Dextromethorphan|               Cough|\"Have a little bi...|   4.0|          1|-0.03657407407407...|\n",
            "|   98494|           Nexplanon|       Birth Control|\"Started Nexplano...|   3.0|         10|0.021539115646258496|\n",
            "|   81890|         Liraglutide|             Obesity|\"I have been taki...|   9.0|         20| 0.20925925925925928|\n",
            "|   48188|        Trimethoprim|Urinary Tract Inf...|\"This drug worked...|   9.0|          0| 0.02909090909090909|\n",
            "|  219869|       Amitriptyline|         ibromyalgia|\"I&#039;ve been t...|   9.0|         39| 0.30833333333333335|\n",
            "|  212077|         Lamotrigine|     Bipolar Disorde|\"I&#039;ve been o...|  10.0|         18| 0.12833333333333338|\n",
            "|  119705|           Nilotinib|Chronic Myelogeno...|\"I have been on T...|  10.0|         11|-0.11142857142857146|\n",
            "+--------+--------------------+--------------------+--------------------+------+-----------+--------------------+\n",
            "only showing top 20 rows\n",
            "\n"
          ]
        }
      ]
    },
    {
      "cell_type": "code",
      "source": [
        "target = 'rating'\n",
        "numeric_cols = ['usefulCount','sentiment']\n",
        "#categorical_cols = ['condition']"
      ],
      "metadata": {
        "id": "X2_I3Hdak-tT"
      },
      "execution_count": 19,
      "outputs": []
    },
    {
      "cell_type": "code",
      "source": [
        "# Use String Indexer to convert categorical values to a numeric index\n",
        "#stringIndex = StringIndexer(inputCols=categorical_cols, handleInvalid='skip', outputCols=[x + \"_idx\" for x in categorical_cols])\n",
        "#stringIndex_model = stringIndex.fit(df_train)\n",
        "#train_df = stringIndex_model.transform(df_train).drop(*categorical_cols)"
      ],
      "metadata": {
        "id": "JLTlig6VlaoC"
      },
      "execution_count": 20,
      "outputs": []
    },
    {
      "cell_type": "code",
      "source": [
        "# Assemble the inputs into the format needed for the model\n",
        "assemblerInputs = numeric_cols \n",
        "vectorAssembler = VectorAssembler(inputCols= assemblerInputs, outputCol=\"features\")\n",
        "train_df = vectorAssembler.transform(df_train).select('features', target)"
      ],
      "metadata": {
        "id": "w-6m-2bAlWJR"
      },
      "execution_count": 21,
      "outputs": []
    },
    {
      "cell_type": "code",
      "source": [
        "train_df.show(5)"
      ],
      "metadata": {
        "id": "fBmj5KFqlqSI",
        "colab": {
          "base_uri": "https://localhost:8080/"
        },
        "outputId": "e90946b9-9c5a-4711-e2e6-7f0e0befe8d6"
      },
      "execution_count": 22,
      "outputs": [
        {
          "output_type": "stream",
          "name": "stdout",
          "text": [
            "+--------------------+------+\n",
            "|            features|rating|\n",
            "+--------------------+------+\n",
            "|          [27.0,0.0]|   9.0|\n",
            "|[192.0,0.16833333...|   8.0|\n",
            "|[17.0,0.067209595...|   5.0|\n",
            "|[10.0,0.179545454...|   8.0|\n",
            "|[37.0,0.194444444...|   9.0|\n",
            "+--------------------+------+\n",
            "only showing top 5 rows\n",
            "\n"
          ]
        }
      ]
    },
    {
      "cell_type": "code",
      "source": [
        "rf = RandomForestRegressor(labelCol=target)"
      ],
      "metadata": {
        "id": "k3hBLXeBlqel"
      },
      "execution_count": 23,
      "outputs": []
    },
    {
      "cell_type": "code",
      "source": [
        "pipeline_rf = Pipeline(stages= [vectorAssembler, rf]) "
      ],
      "metadata": {
        "id": "MDomrqxRlqh8"
      },
      "execution_count": 24,
      "outputs": []
    },
    {
      "cell_type": "code",
      "source": [
        "# Fit Random Forest Model with pipeline\n",
        "rf_pipelineModel = pipeline_rf.fit(df_train)"
      ],
      "metadata": {
        "id": "NuVjbbxzl2A6"
      },
      "execution_count": 25,
      "outputs": []
    },
    {
      "cell_type": "code",
      "source": [
        "train_preds = rf_pipelineModel.transform(df_train)"
      ],
      "metadata": {
        "id": "2Xo5yptql2Ef"
      },
      "execution_count": 26,
      "outputs": []
    },
    {
      "cell_type": "code",
      "source": [
        "# Select example rows to display.\n",
        "train_preds.show(5)"
      ],
      "metadata": {
        "colab": {
          "base_uri": "https://localhost:8080/"
        },
        "id": "cnu3fUT2BAXK",
        "outputId": "8957039d-f632-48a6-e795-4e2ced003c00"
      },
      "execution_count": 27,
      "outputs": [
        {
          "output_type": "stream",
          "name": "stdout",
          "text": [
            "+--------+--------------------+--------------------+--------------------+------+-----------+-------------------+--------------------+------------------+\n",
            "|UniqueID|            drugName|           condition|              review|rating|usefulCount|          sentiment|            features|        prediction|\n",
            "+--------+--------------------+--------------------+--------------------+------+-----------+-------------------+--------------------+------------------+\n",
            "|  206461|           Valsartan|Left Ventricular ...|\"It has no side e...|   9.0|         27|                0.0|          [27.0,0.0]|6.6812020668485586|\n",
            "|   95260|          Guanfacine|                ADHD|\"My son is halfwa...|   8.0|        192|0.16833333333333333|[192.0,0.16833333...|  8.88370890103055|\n",
            "|   92703|              Lybrel|       Birth Control|\"I used to take a...|   5.0|         17|0.06720959595959597|[17.0,0.067209595...| 7.036518393760384|\n",
            "|  138000|          Ortho Evra|       Birth Control|\"This is my first...|   8.0|         10|0.17954545454545456|[10.0,0.179545454...| 7.615111947650841|\n",
            "|   35696|Buprenorphine / n...|   Opiate Dependence|\"Suboxone has com...|   9.0|         37|0.19444444444444445|[37.0,0.194444444...| 8.354374884644987|\n",
            "+--------+--------------------+--------------------+--------------------+------+-----------+-------------------+--------------------+------------------+\n",
            "only showing top 5 rows\n",
            "\n"
          ]
        }
      ]
    },
    {
      "cell_type": "code",
      "source": [
        "evaluator = RegressionEvaluator(labelCol=target, predictionCol=\"prediction\", metricName=\"rmse\")\n",
        "rmse = evaluator.evaluate(train_preds)\n",
        "print(\"Root Mean Squared Error (RMSE) on train data = %g\" % rmse)"
      ],
      "metadata": {
        "colab": {
          "base_uri": "https://localhost:8080/"
        },
        "id": "N-1pRY_qBJOI",
        "outputId": "f33f19f0-78e4-45e7-a81e-be716eea2395"
      },
      "execution_count": 28,
      "outputs": [
        {
          "output_type": "stream",
          "name": "stdout",
          "text": [
            "Root Mean Squared Error (RMSE) on train data = 2.93188\n"
          ]
        }
      ]
    },
    {
      "cell_type": "code",
      "source": [
        "# Drop unimportant columns for model \n",
        "df_test = df_test.drop('date', 'document', 'token', 'class')\n",
        "# Drop rows with missing values\n",
        "df_test = df_test.dropna()"
      ],
      "metadata": {
        "id": "H0O6sDDxl2Ho"
      },
      "execution_count": 29,
      "outputs": []
    },
    {
      "cell_type": "code",
      "source": [
        "## Drop rows where condition contains irrelevant strings\n",
        "df_test = df_test.where(~df_test.condition.contains(\"</span>\"))"
      ],
      "metadata": {
        "id": "fHWRSqmfugPN"
      },
      "execution_count": 30,
      "outputs": []
    },
    {
      "cell_type": "code",
      "source": [
        "df_test.count()"
      ],
      "metadata": {
        "id": "dXbFhJaJ0UJe",
        "colab": {
          "base_uri": "https://localhost:8080/"
        },
        "outputId": "73b8bfc4-d846-431b-bea4-87cb6092e7af"
      },
      "execution_count": 31,
      "outputs": [
        {
          "output_type": "execute_result",
          "data": {
            "text/plain": [
              "53200"
            ]
          },
          "metadata": {},
          "execution_count": 31
        }
      ]
    },
    {
      "cell_type": "code",
      "source": [
        "df_test.show(5)"
      ],
      "metadata": {
        "id": "AORVs6_AmIeK",
        "colab": {
          "base_uri": "https://localhost:8080/"
        },
        "outputId": "9acece38-35c0-4624-be71-fdf696e0562f"
      },
      "execution_count": 32,
      "outputs": [
        {
          "output_type": "stream",
          "name": "stdout",
          "text": [
            "+--------+---------------+--------------------+--------------------+------+-----------+-------------------+\n",
            "|UniqueID|       drugName|           condition|              review|rating|usefulCount|          sentiment|\n",
            "+--------+---------------+--------------------+--------------------+------+-----------+-------------------+\n",
            "|  163740|    Mirtazapine|          Depression|\"I&#039;ve tried ...|  10.0|         22|                0.0|\n",
            "|  206473|     Mesalamine|Crohn's Disease, ...|\"My son has Crohn...|   8.0|         17| 0.5666666666666667|\n",
            "|  159672|        Bactrim|Urinary Tract Inf...|\"Quick reduction ...|   9.0|          3| 0.3333333333333333|\n",
            "|   39293|       Contrave|         Weight Loss|\"Contrave combine...|   9.0|         35|          0.1390625|\n",
            "|   97768|Cyclafem 1 / 35|       Birth Control|\"I have been on t...|   9.0|          4|0.26092592592592595|\n",
            "+--------+---------------+--------------------+--------------------+------+-----------+-------------------+\n",
            "only showing top 5 rows\n",
            "\n"
          ]
        }
      ]
    },
    {
      "cell_type": "code",
      "source": [
        "df_test = df_test.drop('date', 'document', 'token', 'class')"
      ],
      "metadata": {
        "id": "5OVRqWA0JbEK"
      },
      "execution_count": 33,
      "outputs": []
    },
    {
      "cell_type": "code",
      "source": [
        "test_preds = rf_pipelineModel.transform(df_test)"
      ],
      "metadata": {
        "id": "ltee5CZgl_O_"
      },
      "execution_count": 34,
      "outputs": []
    },
    {
      "cell_type": "code",
      "source": [
        "# Select example rows to display.\n",
        "test_preds.show(5)"
      ],
      "metadata": {
        "colab": {
          "base_uri": "https://localhost:8080/"
        },
        "id": "hujDCcJuBcil",
        "outputId": "4c9e82ea-1e9f-43fc-c21e-f584a5c85373"
      },
      "execution_count": 35,
      "outputs": [
        {
          "output_type": "stream",
          "name": "stdout",
          "text": [
            "+--------+---------------+--------------------+--------------------+------+-----------+-------------------+--------------------+------------------+\n",
            "|UniqueID|       drugName|           condition|              review|rating|usefulCount|          sentiment|            features|        prediction|\n",
            "+--------+---------------+--------------------+--------------------+------+-----------+-------------------+--------------------+------------------+\n",
            "|  163740|    Mirtazapine|          Depression|\"I&#039;ve tried ...|  10.0|         22|                0.0|          [22.0,0.0]|6.6812020668485586|\n",
            "|  206473|     Mesalamine|Crohn's Disease, ...|\"My son has Crohn...|   8.0|         17| 0.5666666666666667|[17.0,0.566666666...| 8.221413554315355|\n",
            "|  159672|        Bactrim|Urinary Tract Inf...|\"Quick reduction ...|   9.0|          3| 0.3333333333333333|[3.0,0.3333333333...| 7.477046536587741|\n",
            "|   39293|       Contrave|         Weight Loss|\"Contrave combine...|   9.0|         35|          0.1390625|    [35.0,0.1390625]| 8.224152589703632|\n",
            "|   97768|Cyclafem 1 / 35|       Birth Control|\"I have been on t...|   9.0|          4|0.26092592592592595|[4.0,0.2609259259...|7.4172031974464385|\n",
            "+--------+---------------+--------------------+--------------------+------+-----------+-------------------+--------------------+------------------+\n",
            "only showing top 5 rows\n",
            "\n"
          ]
        }
      ]
    },
    {
      "cell_type": "code",
      "source": [
        "evaluator = RegressionEvaluator(labelCol=target, predictionCol=\"prediction\", metricName=\"rmse\")\n",
        "rmse = evaluator.evaluate(test_preds)\n",
        "print(\"Root Mean Squared Error (RMSE) on test data = %g\" % rmse)"
      ],
      "metadata": {
        "id": "qUu7buu4l_TZ",
        "colab": {
          "base_uri": "https://localhost:8080/"
        },
        "outputId": "e22f8cb5-80de-4d43-e1ab-847947c98386"
      },
      "execution_count": 36,
      "outputs": [
        {
          "output_type": "stream",
          "name": "stdout",
          "text": [
            "Root Mean Squared Error (RMSE) on test data = 2.94817\n"
          ]
        }
      ]
    },
    {
      "cell_type": "code",
      "source": [
        "# https://www.sparkitecture.io/machine-learning/model-saving-and-loading"
      ],
      "metadata": {
        "id": "a4Zl5pJkBusD"
      },
      "execution_count": 37,
      "outputs": []
    },
    {
      "cell_type": "code",
      "source": [
        "rf_pipelineModel.write().overwrite().save(working_folder + \"pipeline_saved_model\")"
      ],
      "metadata": {
        "id": "VTataTafDYPx"
      },
      "execution_count": 38,
      "outputs": []
    },
    {
      "cell_type": "code",
      "source": [
        "from pyspark.ml import PipelineModel\n",
        "from textblob import TextBlob"
      ],
      "metadata": {
        "id": "j4EgZdHCCQXj"
      },
      "execution_count": 39,
      "outputs": []
    },
    {
      "cell_type": "code",
      "source": [
        "review_sent = TextBlob('This drug is the worst!').sentiment.polarity"
      ],
      "metadata": {
        "id": "nr-H1c-jE-z0"
      },
      "execution_count": 40,
      "outputs": []
    },
    {
      "cell_type": "code",
      "source": [
        "new_data = pd.DataFrame.from_dict({'usefulCount':[1],'sentiment':review_sent})"
      ],
      "metadata": {
        "id": "x2RZM72MCl69"
      },
      "execution_count": 41,
      "outputs": []
    },
    {
      "cell_type": "code",
      "source": [
        "new_data = spark.createDataFrame(new_data)"
      ],
      "metadata": {
        "id": "MKTEv9bQEV0I"
      },
      "execution_count": 42,
      "outputs": []
    },
    {
      "cell_type": "code",
      "source": [
        "new_data.show()"
      ],
      "metadata": {
        "colab": {
          "base_uri": "https://localhost:8080/"
        },
        "id": "0VXp58J2CVPy",
        "outputId": "cc1de86e-d0b6-4391-af4f-d558d7e762e6"
      },
      "execution_count": 43,
      "outputs": [
        {
          "output_type": "stream",
          "name": "stdout",
          "text": [
            "+-----------+---------+\n",
            "|usefulCount|sentiment|\n",
            "+-----------+---------+\n",
            "|          1|     -1.0|\n",
            "+-----------+---------+\n",
            "\n"
          ]
        }
      ]
    },
    {
      "cell_type": "code",
      "source": [
        "test_pipelineModel = PipelineModel.load(working_folder + 'pipeline_saved_model')"
      ],
      "metadata": {
        "id": "iFkaJzjqD8mF"
      },
      "execution_count": 44,
      "outputs": []
    },
    {
      "cell_type": "code",
      "source": [
        "test_pipelineModel.transform(new_data).show()"
      ],
      "metadata": {
        "colab": {
          "base_uri": "https://localhost:8080/"
        },
        "id": "dNk6GqwTEKst",
        "outputId": "a10d45b6-eb05-454f-d451-7ed3edf0b190"
      },
      "execution_count": 45,
      "outputs": [
        {
          "output_type": "stream",
          "name": "stdout",
          "text": [
            "+-----------+---------+----------+------------------+\n",
            "|usefulCount|sentiment|  features|        prediction|\n",
            "+-----------+---------+----------+------------------+\n",
            "|          1|     -1.0|[1.0,-1.0]|3.2171588619044216|\n",
            "+-----------+---------+----------+------------------+\n",
            "\n"
          ]
        }
      ]
    },
    {
      "cell_type": "markdown",
      "source": [
        "## TODO: Obtain Average rating for each Drug Available and Demo updating the Drug Rating when a batch of new reviews come in"
      ],
      "metadata": {
        "id": "OIRS-UemtcoW"
      }
    },
    {
      "cell_type": "code",
      "source": [
        "# Get average rating for each drug in the training set\n",
        "#df_train.select(\"Survived\").groupBy(\"Survived\").count().orderBy(\"count\", ascending=False).show()"
      ],
      "metadata": {
        "id": "gYnSVzNOtcra"
      },
      "execution_count": 46,
      "outputs": []
    },
    {
      "cell_type": "code",
      "source": [
        "#"
      ],
      "metadata": {
        "id": "GQvJ2Zdv0eys"
      },
      "execution_count": 47,
      "outputs": []
    },
    {
      "cell_type": "code",
      "source": [
        "## TODO: Write Logic to Update Drug Rating when given a new review without a rating"
      ],
      "metadata": {
        "id": "FUi2ZU8etcuk"
      },
      "execution_count": 48,
      "outputs": []
    },
    {
      "cell_type": "code",
      "source": [],
      "metadata": {
        "id": "KUaMrJYltrzb"
      },
      "execution_count": 48,
      "outputs": []
    }
  ]
}