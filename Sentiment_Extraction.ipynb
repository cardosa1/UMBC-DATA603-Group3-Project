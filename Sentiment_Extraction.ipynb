{
  "nbformat": 4,
  "nbformat_minor": 0,
  "metadata": {
    "colab": {
      "provenance": [],
      "collapsed_sections": [
        "W2pmNadvonZi",
        "ouSfCBo-RgH7",
        "TWjOixtiwMN_",
        "dsCoFFk4k-4H"
      ],
      "machine_shape": "hm"
    },
    "kernelspec": {
      "name": "python3",
      "display_name": "Python 3"
    },
    "language_info": {
      "name": "python"
    },
    "gpuClass": "standard",
    "widgets": {
      "application/vnd.jupyter.widget-state+json": {
        "c690451a2fbb44e686fdd84f1b040c79": {
          "model_module": "@jupyter-widgets/controls",
          "model_name": "HBoxModel",
          "model_module_version": "1.5.0",
          "state": {
            "_dom_classes": [],
            "_model_module": "@jupyter-widgets/controls",
            "_model_module_version": "1.5.0",
            "_model_name": "HBoxModel",
            "_view_count": null,
            "_view_module": "@jupyter-widgets/controls",
            "_view_module_version": "1.5.0",
            "_view_name": "HBoxView",
            "box_style": "",
            "children": [
              "IPY_MODEL_456d260dfa8141299096c3aee1e03d46",
              "IPY_MODEL_4f26d56595954d2ca979ec11289c323e",
              "IPY_MODEL_7b9f2683a6cb40e6a12ee5ad41cde2d2"
            ],
            "layout": "IPY_MODEL_48e5d5ade1f0483da746ae65afc8a925"
          }
        },
        "456d260dfa8141299096c3aee1e03d46": {
          "model_module": "@jupyter-widgets/controls",
          "model_name": "HTMLModel",
          "model_module_version": "1.5.0",
          "state": {
            "_dom_classes": [],
            "_model_module": "@jupyter-widgets/controls",
            "_model_module_version": "1.5.0",
            "_model_name": "HTMLModel",
            "_view_count": null,
            "_view_module": "@jupyter-widgets/controls",
            "_view_module_version": "1.5.0",
            "_view_name": "HTMLView",
            "description": "",
            "description_tooltip": null,
            "layout": "IPY_MODEL_d2b5c6dc62774742b8b1e58cd772ba1b",
            "placeholder": "​",
            "style": "IPY_MODEL_d56443c2691d4c8abd11a73117532e31",
            "value": "Pandas Apply: 100%"
          }
        },
        "4f26d56595954d2ca979ec11289c323e": {
          "model_module": "@jupyter-widgets/controls",
          "model_name": "FloatProgressModel",
          "model_module_version": "1.5.0",
          "state": {
            "_dom_classes": [],
            "_model_module": "@jupyter-widgets/controls",
            "_model_module_version": "1.5.0",
            "_model_name": "FloatProgressModel",
            "_view_count": null,
            "_view_module": "@jupyter-widgets/controls",
            "_view_module_version": "1.5.0",
            "_view_name": "ProgressView",
            "bar_style": "success",
            "description": "",
            "description_tooltip": null,
            "layout": "IPY_MODEL_521f8df0f70e450cba6794ed2b87a99a",
            "max": 159498,
            "min": 0,
            "orientation": "horizontal",
            "style": "IPY_MODEL_a0093733210e4631bb7a5e250bbd2b81",
            "value": 159498
          }
        },
        "7b9f2683a6cb40e6a12ee5ad41cde2d2": {
          "model_module": "@jupyter-widgets/controls",
          "model_name": "HTMLModel",
          "model_module_version": "1.5.0",
          "state": {
            "_dom_classes": [],
            "_model_module": "@jupyter-widgets/controls",
            "_model_module_version": "1.5.0",
            "_model_name": "HTMLModel",
            "_view_count": null,
            "_view_module": "@jupyter-widgets/controls",
            "_view_module_version": "1.5.0",
            "_view_name": "HTMLView",
            "description": "",
            "description_tooltip": null,
            "layout": "IPY_MODEL_ee391b49c1d54443920ae226ec938c90",
            "placeholder": "​",
            "style": "IPY_MODEL_8279fe2230a84d9fabc08995dcd60ccf",
            "value": " 159498/159498 [02:03&lt;00:00, 1305.10it/s]"
          }
        },
        "48e5d5ade1f0483da746ae65afc8a925": {
          "model_module": "@jupyter-widgets/base",
          "model_name": "LayoutModel",
          "model_module_version": "1.2.0",
          "state": {
            "_model_module": "@jupyter-widgets/base",
            "_model_module_version": "1.2.0",
            "_model_name": "LayoutModel",
            "_view_count": null,
            "_view_module": "@jupyter-widgets/base",
            "_view_module_version": "1.2.0",
            "_view_name": "LayoutView",
            "align_content": null,
            "align_items": null,
            "align_self": null,
            "border": null,
            "bottom": null,
            "display": null,
            "flex": null,
            "flex_flow": null,
            "grid_area": null,
            "grid_auto_columns": null,
            "grid_auto_flow": null,
            "grid_auto_rows": null,
            "grid_column": null,
            "grid_gap": null,
            "grid_row": null,
            "grid_template_areas": null,
            "grid_template_columns": null,
            "grid_template_rows": null,
            "height": null,
            "justify_content": null,
            "justify_items": null,
            "left": null,
            "margin": null,
            "max_height": null,
            "max_width": null,
            "min_height": null,
            "min_width": null,
            "object_fit": null,
            "object_position": null,
            "order": null,
            "overflow": null,
            "overflow_x": null,
            "overflow_y": null,
            "padding": null,
            "right": null,
            "top": null,
            "visibility": null,
            "width": null
          }
        },
        "d2b5c6dc62774742b8b1e58cd772ba1b": {
          "model_module": "@jupyter-widgets/base",
          "model_name": "LayoutModel",
          "model_module_version": "1.2.0",
          "state": {
            "_model_module": "@jupyter-widgets/base",
            "_model_module_version": "1.2.0",
            "_model_name": "LayoutModel",
            "_view_count": null,
            "_view_module": "@jupyter-widgets/base",
            "_view_module_version": "1.2.0",
            "_view_name": "LayoutView",
            "align_content": null,
            "align_items": null,
            "align_self": null,
            "border": null,
            "bottom": null,
            "display": null,
            "flex": null,
            "flex_flow": null,
            "grid_area": null,
            "grid_auto_columns": null,
            "grid_auto_flow": null,
            "grid_auto_rows": null,
            "grid_column": null,
            "grid_gap": null,
            "grid_row": null,
            "grid_template_areas": null,
            "grid_template_columns": null,
            "grid_template_rows": null,
            "height": null,
            "justify_content": null,
            "justify_items": null,
            "left": null,
            "margin": null,
            "max_height": null,
            "max_width": null,
            "min_height": null,
            "min_width": null,
            "object_fit": null,
            "object_position": null,
            "order": null,
            "overflow": null,
            "overflow_x": null,
            "overflow_y": null,
            "padding": null,
            "right": null,
            "top": null,
            "visibility": null,
            "width": null
          }
        },
        "d56443c2691d4c8abd11a73117532e31": {
          "model_module": "@jupyter-widgets/controls",
          "model_name": "DescriptionStyleModel",
          "model_module_version": "1.5.0",
          "state": {
            "_model_module": "@jupyter-widgets/controls",
            "_model_module_version": "1.5.0",
            "_model_name": "DescriptionStyleModel",
            "_view_count": null,
            "_view_module": "@jupyter-widgets/base",
            "_view_module_version": "1.2.0",
            "_view_name": "StyleView",
            "description_width": ""
          }
        },
        "521f8df0f70e450cba6794ed2b87a99a": {
          "model_module": "@jupyter-widgets/base",
          "model_name": "LayoutModel",
          "model_module_version": "1.2.0",
          "state": {
            "_model_module": "@jupyter-widgets/base",
            "_model_module_version": "1.2.0",
            "_model_name": "LayoutModel",
            "_view_count": null,
            "_view_module": "@jupyter-widgets/base",
            "_view_module_version": "1.2.0",
            "_view_name": "LayoutView",
            "align_content": null,
            "align_items": null,
            "align_self": null,
            "border": null,
            "bottom": null,
            "display": null,
            "flex": null,
            "flex_flow": null,
            "grid_area": null,
            "grid_auto_columns": null,
            "grid_auto_flow": null,
            "grid_auto_rows": null,
            "grid_column": null,
            "grid_gap": null,
            "grid_row": null,
            "grid_template_areas": null,
            "grid_template_columns": null,
            "grid_template_rows": null,
            "height": null,
            "justify_content": null,
            "justify_items": null,
            "left": null,
            "margin": null,
            "max_height": null,
            "max_width": null,
            "min_height": null,
            "min_width": null,
            "object_fit": null,
            "object_position": null,
            "order": null,
            "overflow": null,
            "overflow_x": null,
            "overflow_y": null,
            "padding": null,
            "right": null,
            "top": null,
            "visibility": null,
            "width": null
          }
        },
        "a0093733210e4631bb7a5e250bbd2b81": {
          "model_module": "@jupyter-widgets/controls",
          "model_name": "ProgressStyleModel",
          "model_module_version": "1.5.0",
          "state": {
            "_model_module": "@jupyter-widgets/controls",
            "_model_module_version": "1.5.0",
            "_model_name": "ProgressStyleModel",
            "_view_count": null,
            "_view_module": "@jupyter-widgets/base",
            "_view_module_version": "1.2.0",
            "_view_name": "StyleView",
            "bar_color": null,
            "description_width": ""
          }
        },
        "ee391b49c1d54443920ae226ec938c90": {
          "model_module": "@jupyter-widgets/base",
          "model_name": "LayoutModel",
          "model_module_version": "1.2.0",
          "state": {
            "_model_module": "@jupyter-widgets/base",
            "_model_module_version": "1.2.0",
            "_model_name": "LayoutModel",
            "_view_count": null,
            "_view_module": "@jupyter-widgets/base",
            "_view_module_version": "1.2.0",
            "_view_name": "LayoutView",
            "align_content": null,
            "align_items": null,
            "align_self": null,
            "border": null,
            "bottom": null,
            "display": null,
            "flex": null,
            "flex_flow": null,
            "grid_area": null,
            "grid_auto_columns": null,
            "grid_auto_flow": null,
            "grid_auto_rows": null,
            "grid_column": null,
            "grid_gap": null,
            "grid_row": null,
            "grid_template_areas": null,
            "grid_template_columns": null,
            "grid_template_rows": null,
            "height": null,
            "justify_content": null,
            "justify_items": null,
            "left": null,
            "margin": null,
            "max_height": null,
            "max_width": null,
            "min_height": null,
            "min_width": null,
            "object_fit": null,
            "object_position": null,
            "order": null,
            "overflow": null,
            "overflow_x": null,
            "overflow_y": null,
            "padding": null,
            "right": null,
            "top": null,
            "visibility": null,
            "width": null
          }
        },
        "8279fe2230a84d9fabc08995dcd60ccf": {
          "model_module": "@jupyter-widgets/controls",
          "model_name": "DescriptionStyleModel",
          "model_module_version": "1.5.0",
          "state": {
            "_model_module": "@jupyter-widgets/controls",
            "_model_module_version": "1.5.0",
            "_model_name": "DescriptionStyleModel",
            "_view_count": null,
            "_view_module": "@jupyter-widgets/base",
            "_view_module_version": "1.2.0",
            "_view_name": "StyleView",
            "description_width": ""
          }
        },
        "15050d21acce496ab12ccd0eda047ae7": {
          "model_module": "@jupyter-widgets/controls",
          "model_name": "HBoxModel",
          "model_module_version": "1.5.0",
          "state": {
            "_dom_classes": [],
            "_model_module": "@jupyter-widgets/controls",
            "_model_module_version": "1.5.0",
            "_model_name": "HBoxModel",
            "_view_count": null,
            "_view_module": "@jupyter-widgets/controls",
            "_view_module_version": "1.5.0",
            "_view_name": "HBoxView",
            "box_style": "",
            "children": [
              "IPY_MODEL_a124d1d780d0457d91a1de7e14f6e123",
              "IPY_MODEL_eef22e725910474d9c4bfbfb7377d927",
              "IPY_MODEL_ed99d67c057f4283ad0279cecf446a02"
            ],
            "layout": "IPY_MODEL_16dd9ed8a7fb487c86851256601b02fd"
          }
        },
        "a124d1d780d0457d91a1de7e14f6e123": {
          "model_module": "@jupyter-widgets/controls",
          "model_name": "HTMLModel",
          "model_module_version": "1.5.0",
          "state": {
            "_dom_classes": [],
            "_model_module": "@jupyter-widgets/controls",
            "_model_module_version": "1.5.0",
            "_model_name": "HTMLModel",
            "_view_count": null,
            "_view_module": "@jupyter-widgets/controls",
            "_view_module_version": "1.5.0",
            "_view_name": "HTMLView",
            "description": "",
            "description_tooltip": null,
            "layout": "IPY_MODEL_4afb6fea81df4d40978fe9124c0112a7",
            "placeholder": "​",
            "style": "IPY_MODEL_6a0ab888882a4ab99799fc8e27d6ada1",
            "value": "Pandas Apply: 100%"
          }
        },
        "eef22e725910474d9c4bfbfb7377d927": {
          "model_module": "@jupyter-widgets/controls",
          "model_name": "FloatProgressModel",
          "model_module_version": "1.5.0",
          "state": {
            "_dom_classes": [],
            "_model_module": "@jupyter-widgets/controls",
            "_model_module_version": "1.5.0",
            "_model_name": "FloatProgressModel",
            "_view_count": null,
            "_view_module": "@jupyter-widgets/controls",
            "_view_module_version": "1.5.0",
            "_view_name": "ProgressView",
            "bar_style": "success",
            "description": "",
            "description_tooltip": null,
            "layout": "IPY_MODEL_1aea0a65936447fd87f1db60018b0ded",
            "max": 53200,
            "min": 0,
            "orientation": "horizontal",
            "style": "IPY_MODEL_21562139032b4fafaae4e31706b47d4c",
            "value": 53200
          }
        },
        "ed99d67c057f4283ad0279cecf446a02": {
          "model_module": "@jupyter-widgets/controls",
          "model_name": "HTMLModel",
          "model_module_version": "1.5.0",
          "state": {
            "_dom_classes": [],
            "_model_module": "@jupyter-widgets/controls",
            "_model_module_version": "1.5.0",
            "_model_name": "HTMLModel",
            "_view_count": null,
            "_view_module": "@jupyter-widgets/controls",
            "_view_module_version": "1.5.0",
            "_view_name": "HTMLView",
            "description": "",
            "description_tooltip": null,
            "layout": "IPY_MODEL_b6c1e286c46e40048a09abcf05092d5f",
            "placeholder": "​",
            "style": "IPY_MODEL_1b414692b5854e109eb0b05242cfe26e",
            "value": " 53200/53200 [00:40&lt;00:00, 1277.51it/s]"
          }
        },
        "16dd9ed8a7fb487c86851256601b02fd": {
          "model_module": "@jupyter-widgets/base",
          "model_name": "LayoutModel",
          "model_module_version": "1.2.0",
          "state": {
            "_model_module": "@jupyter-widgets/base",
            "_model_module_version": "1.2.0",
            "_model_name": "LayoutModel",
            "_view_count": null,
            "_view_module": "@jupyter-widgets/base",
            "_view_module_version": "1.2.0",
            "_view_name": "LayoutView",
            "align_content": null,
            "align_items": null,
            "align_self": null,
            "border": null,
            "bottom": null,
            "display": null,
            "flex": null,
            "flex_flow": null,
            "grid_area": null,
            "grid_auto_columns": null,
            "grid_auto_flow": null,
            "grid_auto_rows": null,
            "grid_column": null,
            "grid_gap": null,
            "grid_row": null,
            "grid_template_areas": null,
            "grid_template_columns": null,
            "grid_template_rows": null,
            "height": null,
            "justify_content": null,
            "justify_items": null,
            "left": null,
            "margin": null,
            "max_height": null,
            "max_width": null,
            "min_height": null,
            "min_width": null,
            "object_fit": null,
            "object_position": null,
            "order": null,
            "overflow": null,
            "overflow_x": null,
            "overflow_y": null,
            "padding": null,
            "right": null,
            "top": null,
            "visibility": null,
            "width": null
          }
        },
        "4afb6fea81df4d40978fe9124c0112a7": {
          "model_module": "@jupyter-widgets/base",
          "model_name": "LayoutModel",
          "model_module_version": "1.2.0",
          "state": {
            "_model_module": "@jupyter-widgets/base",
            "_model_module_version": "1.2.0",
            "_model_name": "LayoutModel",
            "_view_count": null,
            "_view_module": "@jupyter-widgets/base",
            "_view_module_version": "1.2.0",
            "_view_name": "LayoutView",
            "align_content": null,
            "align_items": null,
            "align_self": null,
            "border": null,
            "bottom": null,
            "display": null,
            "flex": null,
            "flex_flow": null,
            "grid_area": null,
            "grid_auto_columns": null,
            "grid_auto_flow": null,
            "grid_auto_rows": null,
            "grid_column": null,
            "grid_gap": null,
            "grid_row": null,
            "grid_template_areas": null,
            "grid_template_columns": null,
            "grid_template_rows": null,
            "height": null,
            "justify_content": null,
            "justify_items": null,
            "left": null,
            "margin": null,
            "max_height": null,
            "max_width": null,
            "min_height": null,
            "min_width": null,
            "object_fit": null,
            "object_position": null,
            "order": null,
            "overflow": null,
            "overflow_x": null,
            "overflow_y": null,
            "padding": null,
            "right": null,
            "top": null,
            "visibility": null,
            "width": null
          }
        },
        "6a0ab888882a4ab99799fc8e27d6ada1": {
          "model_module": "@jupyter-widgets/controls",
          "model_name": "DescriptionStyleModel",
          "model_module_version": "1.5.0",
          "state": {
            "_model_module": "@jupyter-widgets/controls",
            "_model_module_version": "1.5.0",
            "_model_name": "DescriptionStyleModel",
            "_view_count": null,
            "_view_module": "@jupyter-widgets/base",
            "_view_module_version": "1.2.0",
            "_view_name": "StyleView",
            "description_width": ""
          }
        },
        "1aea0a65936447fd87f1db60018b0ded": {
          "model_module": "@jupyter-widgets/base",
          "model_name": "LayoutModel",
          "model_module_version": "1.2.0",
          "state": {
            "_model_module": "@jupyter-widgets/base",
            "_model_module_version": "1.2.0",
            "_model_name": "LayoutModel",
            "_view_count": null,
            "_view_module": "@jupyter-widgets/base",
            "_view_module_version": "1.2.0",
            "_view_name": "LayoutView",
            "align_content": null,
            "align_items": null,
            "align_self": null,
            "border": null,
            "bottom": null,
            "display": null,
            "flex": null,
            "flex_flow": null,
            "grid_area": null,
            "grid_auto_columns": null,
            "grid_auto_flow": null,
            "grid_auto_rows": null,
            "grid_column": null,
            "grid_gap": null,
            "grid_row": null,
            "grid_template_areas": null,
            "grid_template_columns": null,
            "grid_template_rows": null,
            "height": null,
            "justify_content": null,
            "justify_items": null,
            "left": null,
            "margin": null,
            "max_height": null,
            "max_width": null,
            "min_height": null,
            "min_width": null,
            "object_fit": null,
            "object_position": null,
            "order": null,
            "overflow": null,
            "overflow_x": null,
            "overflow_y": null,
            "padding": null,
            "right": null,
            "top": null,
            "visibility": null,
            "width": null
          }
        },
        "21562139032b4fafaae4e31706b47d4c": {
          "model_module": "@jupyter-widgets/controls",
          "model_name": "ProgressStyleModel",
          "model_module_version": "1.5.0",
          "state": {
            "_model_module": "@jupyter-widgets/controls",
            "_model_module_version": "1.5.0",
            "_model_name": "ProgressStyleModel",
            "_view_count": null,
            "_view_module": "@jupyter-widgets/base",
            "_view_module_version": "1.2.0",
            "_view_name": "StyleView",
            "bar_color": null,
            "description_width": ""
          }
        },
        "b6c1e286c46e40048a09abcf05092d5f": {
          "model_module": "@jupyter-widgets/base",
          "model_name": "LayoutModel",
          "model_module_version": "1.2.0",
          "state": {
            "_model_module": "@jupyter-widgets/base",
            "_model_module_version": "1.2.0",
            "_model_name": "LayoutModel",
            "_view_count": null,
            "_view_module": "@jupyter-widgets/base",
            "_view_module_version": "1.2.0",
            "_view_name": "LayoutView",
            "align_content": null,
            "align_items": null,
            "align_self": null,
            "border": null,
            "bottom": null,
            "display": null,
            "flex": null,
            "flex_flow": null,
            "grid_area": null,
            "grid_auto_columns": null,
            "grid_auto_flow": null,
            "grid_auto_rows": null,
            "grid_column": null,
            "grid_gap": null,
            "grid_row": null,
            "grid_template_areas": null,
            "grid_template_columns": null,
            "grid_template_rows": null,
            "height": null,
            "justify_content": null,
            "justify_items": null,
            "left": null,
            "margin": null,
            "max_height": null,
            "max_width": null,
            "min_height": null,
            "min_width": null,
            "object_fit": null,
            "object_position": null,
            "order": null,
            "overflow": null,
            "overflow_x": null,
            "overflow_y": null,
            "padding": null,
            "right": null,
            "top": null,
            "visibility": null,
            "width": null
          }
        },
        "1b414692b5854e109eb0b05242cfe26e": {
          "model_module": "@jupyter-widgets/controls",
          "model_name": "DescriptionStyleModel",
          "model_module_version": "1.5.0",
          "state": {
            "_model_module": "@jupyter-widgets/controls",
            "_model_module_version": "1.5.0",
            "_model_name": "DescriptionStyleModel",
            "_view_count": null,
            "_view_module": "@jupyter-widgets/base",
            "_view_module_version": "1.2.0",
            "_view_name": "StyleView",
            "description_width": ""
          }
        }
      }
    }
  },
  "cells": [
    {
      "cell_type": "markdown",
      "source": [
        "# DATA603 Big Data Processing Project \n",
        "Group 3: Pooja Kangokar Pranesh, Yun-Zih Chen, Elizabeth Cardosa\n",
        "\n",
        "The goal of this project is leverage big data technologies to train a model using the UCI ML Drug Review dataset to predict the star rating of drug based on the sentiment of the review. This model will then perform inference in a streaming manner on ‘real-time’ reviews coming in. This application can then be used to help potential customers understand the overall sentiment towards a drug and if it might be useful for them. \n"
      ],
      "metadata": {
        "id": "f6WifCaLDGcN"
      }
    },
    {
      "cell_type": "code",
      "execution_count": 1,
      "metadata": {
        "colab": {
          "base_uri": "https://localhost:8080/"
        },
        "id": "QOjNnpYbBbOO",
        "outputId": "846f71c1-b651-4b11-8fb1-70af887303a9"
      },
      "outputs": [
        {
          "output_type": "stream",
          "name": "stdout",
          "text": [
            "Drive already mounted at /content/drive; to attempt to forcibly remount, call drive.mount(\"/content/drive\", force_remount=True).\n"
          ]
        }
      ],
      "source": [
        "from google.colab import drive\n",
        "drive.mount('/content/drive')"
      ]
    },
    {
      "cell_type": "code",
      "source": [
        "working_folder = \"/content/drive/My Drive/UMBC Fall 2022/DATA603 Big Data Processing/Project/Data/\""
      ],
      "metadata": {
        "id": "PIZxklXOCF68"
      },
      "execution_count": 2,
      "outputs": []
    },
    {
      "cell_type": "markdown",
      "source": [
        "# Install Libraries and Dependencies"
      ],
      "metadata": {
        "id": "XmKrGUucF-Iv"
      }
    },
    {
      "cell_type": "code",
      "source": [
        "# Install PySpark and Spark NLP\n",
        "! pip install -qq pyspark==3.2.1 spark-nlp findspark "
      ],
      "metadata": {
        "id": "-x6Yo--BrPS5"
      },
      "execution_count": 3,
      "outputs": []
    },
    {
      "cell_type": "code",
      "source": [
        "!wget http://setup.johnsnowlabs.com/colab.sh -O - | bash"
      ],
      "metadata": {
        "colab": {
          "base_uri": "https://localhost:8080/"
        },
        "id": "FYAw63LcIV0n",
        "outputId": "7d91f678-2c31-48a5-efbe-4369ddf1b7c4"
      },
      "execution_count": 4,
      "outputs": [
        {
          "output_type": "stream",
          "name": "stdout",
          "text": [
            "--2022-11-28 15:21:39--  http://setup.johnsnowlabs.com/colab.sh\n",
            "Resolving setup.johnsnowlabs.com (setup.johnsnowlabs.com)... 51.158.130.125\n",
            "Connecting to setup.johnsnowlabs.com (setup.johnsnowlabs.com)|51.158.130.125|:80... connected.\n",
            "HTTP request sent, awaiting response... 302 Found\n",
            "Location: https://setup.johnsnowlabs.com/colab.sh [following]\n",
            "--2022-11-28 15:21:40--  https://setup.johnsnowlabs.com/colab.sh\n",
            "Connecting to setup.johnsnowlabs.com (setup.johnsnowlabs.com)|51.158.130.125|:443... connected.\n",
            "HTTP request sent, awaiting response... 302 Moved Temporarily\n",
            "Location: https://raw.githubusercontent.com/JohnSnowLabs/spark-nlp/master/scripts/colab_setup.sh [following]\n",
            "--2022-11-28 15:21:40--  https://raw.githubusercontent.com/JohnSnowLabs/spark-nlp/master/scripts/colab_setup.sh\n",
            "Resolving raw.githubusercontent.com (raw.githubusercontent.com)... 185.199.108.133, 185.199.109.133, 185.199.110.133, ...\n",
            "Connecting to raw.githubusercontent.com (raw.githubusercontent.com)|185.199.108.133|:443... connected.\n",
            "HTTP request sent, awaiting response... 200 OK\n",
            "Length: 1191 (1.2K) [text/plain]\n",
            "Saving to: ‘STDOUT’\n",
            "\n",
            "-                     0%[                    ]       0  --.-KB/s               Installing PySpark 3.2.1 and Spark NLP 4.2.3\n",
            "-                   100%[===================>]   1.16K  --.-KB/s    in 0s      \n",
            "\n",
            "2022-11-28 15:21:40 (11.6 MB/s) - written to stdout [1191/1191]\n",
            "\n",
            "setup Colab for PySpark 3.2.1 and Spark NLP 4.2.3\n"
          ]
        }
      ]
    },
    {
      "cell_type": "code",
      "source": [
        "import pyspark.pandas as ps\n",
        "import pandas as pd"
      ],
      "metadata": {
        "colab": {
          "base_uri": "https://localhost:8080/"
        },
        "id": "YXvkRIb6DFc3",
        "outputId": "a94fbe52-8b8c-4ec1-9ece-fdbd4df97372"
      },
      "execution_count": 5,
      "outputs": [
        {
          "output_type": "stream",
          "name": "stderr",
          "text": [
            "WARNING:root:'PYARROW_IGNORE_TIMEZONE' environment variable was not set. It is required to set this environment variable to '1' in both driver and executor sides if you use pyarrow>=2.0.0. pandas-on-Spark will set it for you but it does not work if there is a Spark context already launched.\n"
          ]
        }
      ]
    },
    {
      "cell_type": "code",
      "source": [
        "from pyspark.sql.types import *\n",
        "from pyspark.sql.functions import *\n",
        "from pyspark import SparkContext"
      ],
      "metadata": {
        "id": "aO-Tc6NMDRRn"
      },
      "execution_count": 6,
      "outputs": []
    },
    {
      "cell_type": "code",
      "source": [
        "from sparknlp.pretrained import PretrainedPipeline\n",
        "import sparknlp\n",
        "from sparknlp.base import *\n",
        "from sparknlp.annotator import *"
      ],
      "metadata": {
        "id": "EgK1m0ALC_Yi"
      },
      "execution_count": 7,
      "outputs": []
    },
    {
      "cell_type": "code",
      "source": [
        "\"\"\"# Import SparkSession\n",
        "from pyspark.sql import SparkSession\n",
        "# Create a Spark Session\n",
        "spark = SparkSession.builder.master(\"local[*]\").getOrCreate()\n",
        "# Check Spark Session Information\n",
        "spark\"\"\""
      ],
      "metadata": {
        "id": "naR3cF8gvebO",
        "colab": {
          "base_uri": "https://localhost:8080/",
          "height": 55
        },
        "outputId": "bf06c5c6-5b5c-41b3-e817-f404dbbc6379"
      },
      "execution_count": 8,
      "outputs": [
        {
          "output_type": "execute_result",
          "data": {
            "text/plain": [
              "'# Import SparkSession\\nfrom pyspark.sql import SparkSession\\n# Create a Spark Session\\nspark = SparkSession.builder.master(\"local[*]\").getOrCreate()\\n# Check Spark Session Information\\nspark'"
            ],
            "application/vnd.google.colaboratory.intrinsic+json": {
              "type": "string"
            }
          },
          "metadata": {},
          "execution_count": 8
        }
      ]
    },
    {
      "cell_type": "code",
      "source": [
        "spark = sparknlp.start()\n",
        "\n",
        "print(\"Spark NLP version: {}\".format(sparknlp.version()))\n",
        "print(\"Apache Spark version: {}\".format(spark.version))"
      ],
      "metadata": {
        "colab": {
          "base_uri": "https://localhost:8080/"
        },
        "id": "Cpep-Y83IgNN",
        "outputId": "ec8813ec-caee-4b9e-f8ef-b125c3ea40d4"
      },
      "execution_count": 9,
      "outputs": [
        {
          "output_type": "stream",
          "name": "stdout",
          "text": [
            "Spark NLP version: 4.2.3\n",
            "Apache Spark version: 3.2.1\n"
          ]
        }
      ]
    },
    {
      "cell_type": "code",
      "source": [
        "sc = SparkContext.getOrCreate();"
      ],
      "metadata": {
        "id": "MrG8uo1zjfU2"
      },
      "execution_count": 10,
      "outputs": []
    },
    {
      "cell_type": "markdown",
      "source": [
        "# Read-in Dataset\n"
      ],
      "metadata": {
        "id": "ll9VMsHzGDOh"
      }
    },
    {
      "cell_type": "markdown",
      "source": [
        "## Dataset: https://archive.ics.uci.edu/ml/datasets/Drug+Review+Dataset+%28Drugs.com%29\n"
      ],
      "metadata": {
        "id": "W2pmNadvonZi"
      }
    },
    {
      "cell_type": "markdown",
      "source": [
        "The dataset provides patient reviews on specific drugs along with related conditions and a 10 star patient rating reflecting overall patient satisfaction. The data was obtained by crawling online pharmaceutical review sites. The intention was to study\n",
        "\n",
        "- sentiment analysis of drug experience over multiple facets, i.e. sentiments learned on specific aspects such as effectiveness and side effects,\n",
        "- the transferability of models among domains, i.e. conditions, and\n",
        "- the transferability of models among different data sources (see 'Drug Review Dataset (Druglib.com)').\n",
        "\n",
        "The data is split into a train (75%) a test (25%) partition (see publication) and stored in two .tsv (tab-separated-values) files, respectively.\n",
        "\n",
        "Attribute Information:\n",
        "\n",
        "1. drugName (categorical): name of drug\n",
        "2. condition (categorical): name of condition\n",
        "3. review (text): patient review\n",
        "4. rating (numerical): 10 star patient rating\n",
        "5. date (date): date of review entry\n",
        "6. usefulCount (numerical): number of users who found review useful\n"
      ],
      "metadata": {
        "id": "ZXFtRQpRoiom"
      }
    },
    {
      "cell_type": "markdown",
      "source": [
        "Important notes:\n",
        "\n",
        "When using this dataset, you agree that you\n",
        "1. only use the data for research purposes\n",
        "2. don't use the data for any commerical purposes\n",
        "3. don't distribute the data to anyone else\n",
        "4. cite us\n",
        "\n",
        "Felix Gräßer, Surya Kallumadi, Hagen Malberg, and Sebastian Zaunseder. 2018. Aspect-Based Sentiment Analysis of Drug Reviews Applying Cross-Domain and Cross-Data Learning. In Proceedings of the 2018 International Conference on Digital Health (DH '18). ACM, New York, NY, USA, 121-125. DOI: [Web Link] "
      ],
      "metadata": {
        "id": "0xOlCh2ISk6v"
      }
    },
    {
      "cell_type": "markdown",
      "source": [
        "## Load in Test Data"
      ],
      "metadata": {
        "id": "xnVpV1iaHchm"
      }
    },
    {
      "cell_type": "code",
      "source": [
        "# Read in training data file\n",
        "customschema = StructType([\n",
        "  StructField(\"UniqueID\", IntegerType(), True)\n",
        "  ,StructField(\"drugName\", StringType(), True)\n",
        "  ,StructField(\"condition\", StringType(), True)\n",
        "  ,StructField(\"review\", StringType(), True)\n",
        "  ,StructField(\"rating\", DoubleType(), True)\n",
        "  ,StructField(\"date\", StringType(), True)\n",
        "  ,StructField(\"usefulCount\", IntegerType(), True)\n",
        "  ])"
      ],
      "metadata": {
        "id": "o4220ehFHerX"
      },
      "execution_count": 11,
      "outputs": []
    },
    {
      "cell_type": "code",
      "source": [
        "df_test = spark.read.format(\"csv\")\\\n",
        "           .option(\"delimiter\", \"\\t\")\\\n",
        "           .option(\"header\", \"true\")\\\n",
        "           .option(\"quote\", \"\\\"\")\\\n",
        "           .option(\"escape\", \"\\\"\")\\\n",
        "           .option(\"multiLine\",\"true\")\\\n",
        "           .option(\"quoteMode\",\"ALL\")\\\n",
        "           .option(\"mode\",\"PERMISSIVE\")\\\n",
        "           .option(\"ignoreLeadingWhiteSpace\",\"true\")\\\n",
        "           .option(\"ignoreTrailingWhiteSpace\",\"true\")\\\n",
        "           .option(\"parserLib\",\"UNIVOCITY\")\\\n",
        "           .schema(customschema)\\\n",
        "           .load(working_folder + \"drugsComTest_raw.tsv\")"
      ],
      "metadata": {
        "id": "prmAhNSIHiZ5"
      },
      "execution_count": 12,
      "outputs": []
    },
    {
      "cell_type": "code",
      "source": [
        "df_test.count()"
      ],
      "metadata": {
        "colab": {
          "base_uri": "https://localhost:8080/"
        },
        "id": "yUfc5E3WpH3a",
        "outputId": "d79d05a7-62d7-4d5d-8166-4dbc659e5ed2"
      },
      "execution_count": 13,
      "outputs": [
        {
          "output_type": "execute_result",
          "data": {
            "text/plain": [
              "53766"
            ]
          },
          "metadata": {},
          "execution_count": 13
        }
      ]
    },
    {
      "cell_type": "code",
      "source": [
        "df_test.show(5)"
      ],
      "metadata": {
        "colab": {
          "base_uri": "https://localhost:8080/"
        },
        "id": "tHClVhv7HmUu",
        "outputId": "17611491-0df3-43b5-953f-96c9625397ce"
      },
      "execution_count": 14,
      "outputs": [
        {
          "output_type": "stream",
          "name": "stdout",
          "text": [
            "+--------+---------------+--------------------+--------------------+------+------------------+-----------+\n",
            "|UniqueID|       drugName|           condition|              review|rating|              date|usefulCount|\n",
            "+--------+---------------+--------------------+--------------------+------+------------------+-----------+\n",
            "|  163740|    Mirtazapine|          Depression|\"I&#039;ve tried ...|  10.0| February 28, 2012|         22|\n",
            "|  206473|     Mesalamine|Crohn's Disease, ...|\"My son has Crohn...|   8.0|      May 17, 2009|         17|\n",
            "|  159672|        Bactrim|Urinary Tract Inf...|\"Quick reduction ...|   9.0|September 29, 2017|          3|\n",
            "|   39293|       Contrave|         Weight Loss|\"Contrave combine...|   9.0|     March 5, 2017|         35|\n",
            "|   97768|Cyclafem 1 / 35|       Birth Control|\"I have been on t...|   9.0|  October 22, 2015|          4|\n",
            "+--------+---------------+--------------------+--------------------+------+------------------+-----------+\n",
            "only showing top 5 rows\n",
            "\n"
          ]
        }
      ]
    },
    {
      "cell_type": "markdown",
      "source": [
        "## Load in and Explore Training Data"
      ],
      "metadata": {
        "id": "a6Ky5tG_HWjQ"
      }
    },
    {
      "cell_type": "code",
      "source": [
        "# Read in training data file\n",
        "customschema = StructType([\n",
        "  StructField(\"UniqueID\", IntegerType(), True)\n",
        "  ,StructField(\"drugName\", StringType(), True)\n",
        "  ,StructField(\"condition\", StringType(), True)\n",
        "  ,StructField(\"review\", StringType(), True)\n",
        "  ,StructField(\"rating\", DoubleType(), True)\n",
        "  ,StructField(\"date\", StringType(), True)\n",
        "  ,StructField(\"usefulCount\", IntegerType(), True)\n",
        "  ])\n",
        "\n",
        "df = spark.read.format(\"csv\")\\\n",
        "           .option(\"delimiter\", \"\\t\")\\\n",
        "           .option(\"header\", \"true\")\\\n",
        "           .option(\"quote\", \"\\\"\")\\\n",
        "           .option(\"escape\", \"\\\"\")\\\n",
        "           .option(\"multiLine\",\"true\")\\\n",
        "           .option(\"quoteMode\",\"ALL\")\\\n",
        "           .option(\"mode\",\"PERMISSIVE\")\\\n",
        "           .option(\"ignoreLeadingWhiteSpace\",\"true\")\\\n",
        "           .option(\"ignoreTrailingWhiteSpace\",\"true\")\\\n",
        "           .option(\"parserLib\",\"UNIVOCITY\")\\\n",
        "           .schema(customschema)\\\n",
        "           .load(working_folder + \"drugsComTrain_raw.tsv\")"
      ],
      "metadata": {
        "id": "9WMlYS-iCGEW"
      },
      "execution_count": 15,
      "outputs": []
    },
    {
      "cell_type": "code",
      "source": [
        "df.count()"
      ],
      "metadata": {
        "colab": {
          "base_uri": "https://localhost:8080/"
        },
        "id": "nocaGG4bfmex",
        "outputId": "6f328c51-d35d-4470-892d-22a0053e1282"
      },
      "execution_count": 16,
      "outputs": [
        {
          "output_type": "execute_result",
          "data": {
            "text/plain": [
              "161297"
            ]
          },
          "metadata": {},
          "execution_count": 16
        }
      ]
    },
    {
      "cell_type": "code",
      "source": [
        "df.show(5)"
      ],
      "metadata": {
        "colab": {
          "base_uri": "https://localhost:8080/"
        },
        "id": "Bz0g5aqDCPo2",
        "outputId": "b1a2bae8-99fb-4bc9-c6ed-5360bfe0738e"
      },
      "execution_count": 17,
      "outputs": [
        {
          "output_type": "stream",
          "name": "stdout",
          "text": [
            "+--------+--------------------+--------------------+--------------------+------+-----------------+-----------+\n",
            "|UniqueID|            drugName|           condition|              review|rating|             date|usefulCount|\n",
            "+--------+--------------------+--------------------+--------------------+------+-----------------+-----------+\n",
            "|  206461|           Valsartan|Left Ventricular ...|\"It has no side e...|   9.0|     May 20, 2012|         27|\n",
            "|   95260|          Guanfacine|                ADHD|\"My son is halfwa...|   8.0|   April 27, 2010|        192|\n",
            "|   92703|              Lybrel|       Birth Control|\"I used to take a...|   5.0|December 14, 2009|         17|\n",
            "|  138000|          Ortho Evra|       Birth Control|\"This is my first...|   8.0| November 3, 2015|         10|\n",
            "|   35696|Buprenorphine / n...|   Opiate Dependence|\"Suboxone has com...|   9.0|November 27, 2016|         37|\n",
            "+--------+--------------------+--------------------+--------------------+------+-----------------+-----------+\n",
            "only showing top 5 rows\n",
            "\n"
          ]
        }
      ]
    },
    {
      "cell_type": "markdown",
      "source": [
        "### Clean Training Dataset"
      ],
      "metadata": {
        "id": "H9GiOXX5tEC_"
      }
    },
    {
      "cell_type": "code",
      "source": [
        "# Remove rows with null columns\n",
        "df = df.dropna()\n",
        "df_test = df_test.dropna()"
      ],
      "metadata": {
        "id": "HuT9_OH2tlXf"
      },
      "execution_count": 18,
      "outputs": []
    },
    {
      "cell_type": "code",
      "source": [
        "df.count()"
      ],
      "metadata": {
        "colab": {
          "base_uri": "https://localhost:8080/"
        },
        "id": "D--LA1MOtzy-",
        "outputId": "c9729b4b-515e-46bc-d175-5c0347800e8b"
      },
      "execution_count": 19,
      "outputs": [
        {
          "output_type": "execute_result",
          "data": {
            "text/plain": [
              "160398"
            ]
          },
          "metadata": {},
          "execution_count": 19
        }
      ]
    },
    {
      "cell_type": "code",
      "source": [
        "df_test.count()"
      ],
      "metadata": {
        "colab": {
          "base_uri": "https://localhost:8080/"
        },
        "id": "njZqKxe10iH6",
        "outputId": "638cdbe7-94a9-47ae-e440-2d77cd4b28c9"
      },
      "execution_count": 20,
      "outputs": [
        {
          "output_type": "execute_result",
          "data": {
            "text/plain": [
              "53471"
            ]
          },
          "metadata": {},
          "execution_count": 20
        }
      ]
    },
    {
      "cell_type": "code",
      "source": [
        "# Drop conditions with </span> tag\n",
        "df = df.where(~df.condition.contains(\"</span>\"))"
      ],
      "metadata": {
        "id": "mxu3UXTtt3gd"
      },
      "execution_count": 21,
      "outputs": []
    },
    {
      "cell_type": "code",
      "source": [
        "df_test = df_test.where(~df_test.condition.contains(\"</span>\"))"
      ],
      "metadata": {
        "id": "2HoM4IyK0jX2"
      },
      "execution_count": 22,
      "outputs": []
    },
    {
      "cell_type": "code",
      "source": [
        "df.count()"
      ],
      "metadata": {
        "colab": {
          "base_uri": "https://localhost:8080/"
        },
        "id": "0J6qI90AtlfB",
        "outputId": "3aa29785-ac51-42ca-ee22-6d71f651f0d7"
      },
      "execution_count": 23,
      "outputs": [
        {
          "output_type": "execute_result",
          "data": {
            "text/plain": [
              "159498"
            ]
          },
          "metadata": {},
          "execution_count": 23
        }
      ]
    },
    {
      "cell_type": "code",
      "source": [
        "df_test.count()"
      ],
      "metadata": {
        "colab": {
          "base_uri": "https://localhost:8080/"
        },
        "id": "tO3a1cot0pVJ",
        "outputId": "a2c7f4b0-024e-433b-f17b-7dd8215030f3"
      },
      "execution_count": 24,
      "outputs": [
        {
          "output_type": "execute_result",
          "data": {
            "text/plain": [
              "53200"
            ]
          },
          "metadata": {},
          "execution_count": 24
        }
      ]
    },
    {
      "cell_type": "code",
      "source": [
        "df.groupby('rating').count().orderBy(\"rating\", ascending=False).show()"
      ],
      "metadata": {
        "colab": {
          "base_uri": "https://localhost:8080/"
        },
        "id": "tuW5_k7sjMBO",
        "outputId": "834ce22e-eadf-4e9d-da5f-21a577f30206"
      },
      "execution_count": 25,
      "outputs": [
        {
          "output_type": "stream",
          "name": "stdout",
          "text": [
            "+------+-----+\n",
            "|rating|count|\n",
            "+------+-----+\n",
            "|  10.0|50504|\n",
            "|   9.0|27219|\n",
            "|   8.0|18688|\n",
            "|   7.0| 9338|\n",
            "|   6.0| 6254|\n",
            "|   5.0| 7907|\n",
            "|   4.0| 4942|\n",
            "|   3.0| 6422|\n",
            "|   2.0| 6833|\n",
            "|   1.0|21391|\n",
            "+------+-----+\n",
            "\n"
          ]
        }
      ]
    },
    {
      "cell_type": "code",
      "source": [
        "# Average Star Rating by Condition\n",
        "df.groupBy(\"condition\").agg({'rating':'avg', 'condition':'count'}).orderBy(\"count(condition)\",ascending=False).show()"
      ],
      "metadata": {
        "colab": {
          "base_uri": "https://localhost:8080/"
        },
        "id": "UHd2umUipOSF",
        "outputId": "773aed00-4ea1-4ff9-e440-7c8f55d190fd"
      },
      "execution_count": 26,
      "outputs": [
        {
          "output_type": "stream",
          "name": "stdout",
          "text": [
            "+--------------------+----------------+------------------+\n",
            "|           condition|count(condition)|       avg(rating)|\n",
            "+--------------------+----------------+------------------+\n",
            "|       Birth Control|           28788| 6.089933305543977|\n",
            "|          Depression|            9069| 7.099459697871871|\n",
            "|                Pain|            6145|7.6322213181448335|\n",
            "|             Anxiety|            5904| 7.691056910569106|\n",
            "|                Acne|            5588| 7.374194702934861|\n",
            "|     Bipolar Disorde|            4224| 7.152698863636363|\n",
            "|            Insomnia|            3673| 6.724203648243942|\n",
            "|         Weight Loss|            3609| 8.051260737046274|\n",
            "|             Obesity|            3568| 7.744674887892376|\n",
            "|                ADHD|            3383|7.3502808158439255|\n",
            "|    Diabetes, Type 2|            2554| 6.611981205951449|\n",
            "|Emergency Contrac...|            2463| 8.432399512789281|\n",
            "| High Blood Pressure|            2321| 6.214993537268419|\n",
            "|Vaginal Yeast Inf...|            2274| 4.082233948988566|\n",
            "|Abnormal Uterine ...|            2096| 4.372614503816794|\n",
            "|   Bowel Preparation|            1859|  7.14308768154922|\n",
            "|         ibromyalgia|            1791| 6.850921273031826|\n",
            "|   Smoking Cessation|            1780| 8.758426966292134|\n",
            "|            Migraine|            1694| 8.083234946871311|\n",
            "|  Anxiety and Stress|            1663| 7.496091401082381|\n",
            "+--------------------+----------------+------------------+\n",
            "only showing top 20 rows\n",
            "\n"
          ]
        }
      ]
    },
    {
      "cell_type": "code",
      "source": [
        "# Average Star Rating by Drug Name \n",
        "df.groupBy(\"drugName\").agg({'rating':'avg', 'drugName':'count'}).orderBy(\"count(drugName)\",ascending=False).show()"
      ],
      "metadata": {
        "colab": {
          "base_uri": "https://localhost:8080/"
        },
        "id": "nj9UGIQ1pTtv",
        "outputId": "81f3f160-fb95-4b66-962c-5fd19f68588f"
      },
      "execution_count": 27,
      "outputs": [
        {
          "output_type": "stream",
          "name": "stdout",
          "text": [
            "+--------------------+------------------+---------------+\n",
            "|            drugName|       avg(rating)|count(drugName)|\n",
            "+--------------------+------------------+---------------+\n",
            "|      Levonorgestrel| 7.403470118424677|           3631|\n",
            "|        Etonogestrel|  5.80517916290274|           3321|\n",
            "|Ethinyl estradiol...| 5.589090909090909|           2750|\n",
            "|           Nexplanon| 5.679851093531875|           2149|\n",
            "|Ethinyl estradiol...|5.8362026561731435|           2033|\n",
            "|Ethinyl estradiol...| 5.798783858485351|           1809|\n",
            "|         Phentermine|  8.78218465539662|           1538|\n",
            "|          Sertraline| 7.492239467849224|           1353|\n",
            "|        Escitalopram| 7.846930846930847|           1287|\n",
            "|              Mirena| 6.595570139458572|           1219|\n",
            "|            Implanon| 6.073059360730594|           1095|\n",
            "|          Gabapentin| 7.436660268714012|           1042|\n",
            "|           Bupropion| 7.442477876106195|           1017|\n",
            "|         Venlafaxine|6.7895256916996045|           1012|\n",
            "|          Miconazole|3.0250501002004007|            998|\n",
            "|          Citalopram|  7.67102615694165|            994|\n",
            "| Medroxyprogesterone|4.7723995880535535|            971|\n",
            "|             Lexapro| 7.805702217529039|            947|\n",
            "|Bupropion / naltr...| 6.861375661375662|            945|\n",
            "|          Duloxetine| 6.638023630504834|            931|\n",
            "+--------------------+------------------+---------------+\n",
            "only showing top 20 rows\n",
            "\n"
          ]
        }
      ]
    },
    {
      "cell_type": "code",
      "source": [
        "pd_df_train = df.toPandas()"
      ],
      "metadata": {
        "id": "HcAbAugiXBJ6"
      },
      "execution_count": 28,
      "outputs": []
    },
    {
      "cell_type": "code",
      "source": [
        "pd_df_test = df_test.toPandas()"
      ],
      "metadata": {
        "id": "8XMcf7Usvscb"
      },
      "execution_count": 29,
      "outputs": []
    },
    {
      "cell_type": "markdown",
      "source": [
        "# Use TextBlob to Extract Sentiments\n",
        "John Snow Labs sentiment models do not provide us with a continuous sentiment score, but simply postive or negative labels. Also, due to lazy evaluation in Spark the inference transformations blow up the size of the dataframe causing it to be unworkable on our UMBC Colab instances. Because of this, we have opted to use the TextBlob library to obtain the sentiment polarity and Swifter to parallelize the inference operation to train our final model. "
      ],
      "metadata": {
        "id": "dlDBdZI4veEd"
      }
    },
    {
      "cell_type": "code",
      "source": [
        "!pip install swifter -qq"
      ],
      "metadata": {
        "id": "0TIG17tnxi4c"
      },
      "execution_count": 30,
      "outputs": []
    },
    {
      "cell_type": "code",
      "source": [
        "from textblob import TextBlob\n",
        "import swifter"
      ],
      "metadata": {
        "id": "HdtTYocGviUh"
      },
      "execution_count": 31,
      "outputs": []
    },
    {
      "cell_type": "code",
      "source": [
        "def get_sentiment(text):\n",
        "  return TextBlob(text).sentiment.polarity"
      ],
      "metadata": {
        "id": "vRipdkmDxKef"
      },
      "execution_count": 32,
      "outputs": []
    },
    {
      "cell_type": "code",
      "source": [
        "pd_df_train['sentiment'] = pd_df_train['review'].swifter.apply(get_sentiment)"
      ],
      "metadata": {
        "colab": {
          "base_uri": "https://localhost:8080/",
          "height": 49,
          "referenced_widgets": [
            "c690451a2fbb44e686fdd84f1b040c79",
            "456d260dfa8141299096c3aee1e03d46",
            "4f26d56595954d2ca979ec11289c323e",
            "7b9f2683a6cb40e6a12ee5ad41cde2d2",
            "48e5d5ade1f0483da746ae65afc8a925",
            "d2b5c6dc62774742b8b1e58cd772ba1b",
            "d56443c2691d4c8abd11a73117532e31",
            "521f8df0f70e450cba6794ed2b87a99a",
            "a0093733210e4631bb7a5e250bbd2b81",
            "ee391b49c1d54443920ae226ec938c90",
            "8279fe2230a84d9fabc08995dcd60ccf"
          ]
        },
        "id": "b2kBmwATvpaq",
        "outputId": "40f53bf1-46d4-46cf-ae61-b8faea6041c6"
      },
      "execution_count": 33,
      "outputs": [
        {
          "output_type": "display_data",
          "data": {
            "text/plain": [
              "Pandas Apply:   0%|          | 0/159498 [00:00<?, ?it/s]"
            ],
            "application/vnd.jupyter.widget-view+json": {
              "version_major": 2,
              "version_minor": 0,
              "model_id": "c690451a2fbb44e686fdd84f1b040c79"
            }
          },
          "metadata": {}
        }
      ]
    },
    {
      "cell_type": "code",
      "source": [
        "pd_df_train.head()"
      ],
      "metadata": {
        "colab": {
          "base_uri": "https://localhost:8080/",
          "height": 302
        },
        "id": "uL9lXL6T0Obw",
        "outputId": "c43dc469-5b90-45e7-89cb-6ba921cd8a0c"
      },
      "execution_count": 34,
      "outputs": [
        {
          "output_type": "execute_result",
          "data": {
            "text/plain": [
              "   UniqueID                  drugName                     condition  \\\n",
              "0    206461                 Valsartan  Left Ventricular Dysfunction   \n",
              "1     95260                Guanfacine                          ADHD   \n",
              "2     92703                    Lybrel                 Birth Control   \n",
              "3    138000                Ortho Evra                 Birth Control   \n",
              "4     35696  Buprenorphine / naloxone             Opiate Dependence   \n",
              "\n",
              "                                              review  rating  \\\n",
              "0  \"It has no side effect, I take it in combinati...     9.0   \n",
              "1  \"My son is halfway through his fourth week of ...     8.0   \n",
              "2  \"I used to take another oral contraceptive, wh...     5.0   \n",
              "3  \"This is my first time using any form of birth...     8.0   \n",
              "4  \"Suboxone has completely turned my life around...     9.0   \n",
              "\n",
              "                date  usefulCount  sentiment  \n",
              "0       May 20, 2012           27   0.000000  \n",
              "1     April 27, 2010          192   0.168333  \n",
              "2  December 14, 2009           17   0.067210  \n",
              "3   November 3, 2015           10   0.179545  \n",
              "4  November 27, 2016           37   0.194444  "
            ],
            "text/html": [
              "\n",
              "  <div id=\"df-d29d73d2-8e5b-4355-aaef-b2ad35f90eaa\">\n",
              "    <div class=\"colab-df-container\">\n",
              "      <div>\n",
              "<style scoped>\n",
              "    .dataframe tbody tr th:only-of-type {\n",
              "        vertical-align: middle;\n",
              "    }\n",
              "\n",
              "    .dataframe tbody tr th {\n",
              "        vertical-align: top;\n",
              "    }\n",
              "\n",
              "    .dataframe thead th {\n",
              "        text-align: right;\n",
              "    }\n",
              "</style>\n",
              "<table border=\"1\" class=\"dataframe\">\n",
              "  <thead>\n",
              "    <tr style=\"text-align: right;\">\n",
              "      <th></th>\n",
              "      <th>UniqueID</th>\n",
              "      <th>drugName</th>\n",
              "      <th>condition</th>\n",
              "      <th>review</th>\n",
              "      <th>rating</th>\n",
              "      <th>date</th>\n",
              "      <th>usefulCount</th>\n",
              "      <th>sentiment</th>\n",
              "    </tr>\n",
              "  </thead>\n",
              "  <tbody>\n",
              "    <tr>\n",
              "      <th>0</th>\n",
              "      <td>206461</td>\n",
              "      <td>Valsartan</td>\n",
              "      <td>Left Ventricular Dysfunction</td>\n",
              "      <td>\"It has no side effect, I take it in combinati...</td>\n",
              "      <td>9.0</td>\n",
              "      <td>May 20, 2012</td>\n",
              "      <td>27</td>\n",
              "      <td>0.000000</td>\n",
              "    </tr>\n",
              "    <tr>\n",
              "      <th>1</th>\n",
              "      <td>95260</td>\n",
              "      <td>Guanfacine</td>\n",
              "      <td>ADHD</td>\n",
              "      <td>\"My son is halfway through his fourth week of ...</td>\n",
              "      <td>8.0</td>\n",
              "      <td>April 27, 2010</td>\n",
              "      <td>192</td>\n",
              "      <td>0.168333</td>\n",
              "    </tr>\n",
              "    <tr>\n",
              "      <th>2</th>\n",
              "      <td>92703</td>\n",
              "      <td>Lybrel</td>\n",
              "      <td>Birth Control</td>\n",
              "      <td>\"I used to take another oral contraceptive, wh...</td>\n",
              "      <td>5.0</td>\n",
              "      <td>December 14, 2009</td>\n",
              "      <td>17</td>\n",
              "      <td>0.067210</td>\n",
              "    </tr>\n",
              "    <tr>\n",
              "      <th>3</th>\n",
              "      <td>138000</td>\n",
              "      <td>Ortho Evra</td>\n",
              "      <td>Birth Control</td>\n",
              "      <td>\"This is my first time using any form of birth...</td>\n",
              "      <td>8.0</td>\n",
              "      <td>November 3, 2015</td>\n",
              "      <td>10</td>\n",
              "      <td>0.179545</td>\n",
              "    </tr>\n",
              "    <tr>\n",
              "      <th>4</th>\n",
              "      <td>35696</td>\n",
              "      <td>Buprenorphine / naloxone</td>\n",
              "      <td>Opiate Dependence</td>\n",
              "      <td>\"Suboxone has completely turned my life around...</td>\n",
              "      <td>9.0</td>\n",
              "      <td>November 27, 2016</td>\n",
              "      <td>37</td>\n",
              "      <td>0.194444</td>\n",
              "    </tr>\n",
              "  </tbody>\n",
              "</table>\n",
              "</div>\n",
              "      <button class=\"colab-df-convert\" onclick=\"convertToInteractive('df-d29d73d2-8e5b-4355-aaef-b2ad35f90eaa')\"\n",
              "              title=\"Convert this dataframe to an interactive table.\"\n",
              "              style=\"display:none;\">\n",
              "        \n",
              "  <svg xmlns=\"http://www.w3.org/2000/svg\" height=\"24px\"viewBox=\"0 0 24 24\"\n",
              "       width=\"24px\">\n",
              "    <path d=\"M0 0h24v24H0V0z\" fill=\"none\"/>\n",
              "    <path d=\"M18.56 5.44l.94 2.06.94-2.06 2.06-.94-2.06-.94-.94-2.06-.94 2.06-2.06.94zm-11 1L8.5 8.5l.94-2.06 2.06-.94-2.06-.94L8.5 2.5l-.94 2.06-2.06.94zm10 10l.94 2.06.94-2.06 2.06-.94-2.06-.94-.94-2.06-.94 2.06-2.06.94z\"/><path d=\"M17.41 7.96l-1.37-1.37c-.4-.4-.92-.59-1.43-.59-.52 0-1.04.2-1.43.59L10.3 9.45l-7.72 7.72c-.78.78-.78 2.05 0 2.83L4 21.41c.39.39.9.59 1.41.59.51 0 1.02-.2 1.41-.59l7.78-7.78 2.81-2.81c.8-.78.8-2.07 0-2.86zM5.41 20L4 18.59l7.72-7.72 1.47 1.35L5.41 20z\"/>\n",
              "  </svg>\n",
              "      </button>\n",
              "      \n",
              "  <style>\n",
              "    .colab-df-container {\n",
              "      display:flex;\n",
              "      flex-wrap:wrap;\n",
              "      gap: 12px;\n",
              "    }\n",
              "\n",
              "    .colab-df-convert {\n",
              "      background-color: #E8F0FE;\n",
              "      border: none;\n",
              "      border-radius: 50%;\n",
              "      cursor: pointer;\n",
              "      display: none;\n",
              "      fill: #1967D2;\n",
              "      height: 32px;\n",
              "      padding: 0 0 0 0;\n",
              "      width: 32px;\n",
              "    }\n",
              "\n",
              "    .colab-df-convert:hover {\n",
              "      background-color: #E2EBFA;\n",
              "      box-shadow: 0px 1px 2px rgba(60, 64, 67, 0.3), 0px 1px 3px 1px rgba(60, 64, 67, 0.15);\n",
              "      fill: #174EA6;\n",
              "    }\n",
              "\n",
              "    [theme=dark] .colab-df-convert {\n",
              "      background-color: #3B4455;\n",
              "      fill: #D2E3FC;\n",
              "    }\n",
              "\n",
              "    [theme=dark] .colab-df-convert:hover {\n",
              "      background-color: #434B5C;\n",
              "      box-shadow: 0px 1px 3px 1px rgba(0, 0, 0, 0.15);\n",
              "      filter: drop-shadow(0px 1px 2px rgba(0, 0, 0, 0.3));\n",
              "      fill: #FFFFFF;\n",
              "    }\n",
              "  </style>\n",
              "\n",
              "      <script>\n",
              "        const buttonEl =\n",
              "          document.querySelector('#df-d29d73d2-8e5b-4355-aaef-b2ad35f90eaa button.colab-df-convert');\n",
              "        buttonEl.style.display =\n",
              "          google.colab.kernel.accessAllowed ? 'block' : 'none';\n",
              "\n",
              "        async function convertToInteractive(key) {\n",
              "          const element = document.querySelector('#df-d29d73d2-8e5b-4355-aaef-b2ad35f90eaa');\n",
              "          const dataTable =\n",
              "            await google.colab.kernel.invokeFunction('convertToInteractive',\n",
              "                                                     [key], {});\n",
              "          if (!dataTable) return;\n",
              "\n",
              "          const docLinkHtml = 'Like what you see? Visit the ' +\n",
              "            '<a target=\"_blank\" href=https://colab.research.google.com/notebooks/data_table.ipynb>data table notebook</a>'\n",
              "            + ' to learn more about interactive tables.';\n",
              "          element.innerHTML = '';\n",
              "          dataTable['output_type'] = 'display_data';\n",
              "          await google.colab.output.renderOutput(dataTable, element);\n",
              "          const docLink = document.createElement('div');\n",
              "          docLink.innerHTML = docLinkHtml;\n",
              "          element.appendChild(docLink);\n",
              "        }\n",
              "      </script>\n",
              "    </div>\n",
              "  </div>\n",
              "  "
            ]
          },
          "metadata": {},
          "execution_count": 34
        }
      ]
    },
    {
      "cell_type": "code",
      "source": [
        "pd_df_train.sentiment.describe()"
      ],
      "metadata": {
        "colab": {
          "base_uri": "https://localhost:8080/"
        },
        "id": "AQnHtZcf7ofA",
        "outputId": "a323608f-6851-4450-ad1d-ed289b50c989"
      },
      "execution_count": 46,
      "outputs": [
        {
          "output_type": "execute_result",
          "data": {
            "text/plain": [
              "count    159498.000000\n",
              "mean          0.064715\n",
              "std           0.222336\n",
              "min          -1.000000\n",
              "25%          -0.043333\n",
              "50%           0.057975\n",
              "75%           0.173611\n",
              "max           1.000000\n",
              "Name: sentiment, dtype: float64"
            ]
          },
          "metadata": {},
          "execution_count": 46
        }
      ]
    },
    {
      "cell_type": "code",
      "source": [
        "pd_df_test['sentiment'] = pd_df_test['review'].swifter.apply(get_sentiment)"
      ],
      "metadata": {
        "colab": {
          "base_uri": "https://localhost:8080/",
          "height": 49,
          "referenced_widgets": [
            "15050d21acce496ab12ccd0eda047ae7",
            "a124d1d780d0457d91a1de7e14f6e123",
            "eef22e725910474d9c4bfbfb7377d927",
            "ed99d67c057f4283ad0279cecf446a02",
            "16dd9ed8a7fb487c86851256601b02fd",
            "4afb6fea81df4d40978fe9124c0112a7",
            "6a0ab888882a4ab99799fc8e27d6ada1",
            "1aea0a65936447fd87f1db60018b0ded",
            "21562139032b4fafaae4e31706b47d4c",
            "b6c1e286c46e40048a09abcf05092d5f",
            "1b414692b5854e109eb0b05242cfe26e"
          ]
        },
        "id": "q41s8d3FwUv6",
        "outputId": "06742955-e45e-476b-c0a2-1abfd50b6f65"
      },
      "execution_count": 35,
      "outputs": [
        {
          "output_type": "display_data",
          "data": {
            "text/plain": [
              "Pandas Apply:   0%|          | 0/53200 [00:00<?, ?it/s]"
            ],
            "application/vnd.jupyter.widget-view+json": {
              "version_major": 2,
              "version_minor": 0,
              "model_id": "15050d21acce496ab12ccd0eda047ae7"
            }
          },
          "metadata": {}
        }
      ]
    },
    {
      "cell_type": "code",
      "source": [
        "pd_df_test.head()"
      ],
      "metadata": {
        "colab": {
          "base_uri": "https://localhost:8080/",
          "height": 250
        },
        "id": "8-DgOeo80Siw",
        "outputId": "acacdfc8-11fb-4180-8952-e0828c6a5945"
      },
      "execution_count": 36,
      "outputs": [
        {
          "output_type": "execute_result",
          "data": {
            "text/plain": [
              "   UniqueID         drugName                     condition  \\\n",
              "0    163740      Mirtazapine                    Depression   \n",
              "1    206473       Mesalamine  Crohn's Disease, Maintenance   \n",
              "2    159672          Bactrim       Urinary Tract Infection   \n",
              "3     39293         Contrave                   Weight Loss   \n",
              "4     97768  Cyclafem 1 / 35                 Birth Control   \n",
              "\n",
              "                                              review  rating  \\\n",
              "0  \"I&#039;ve tried a few antidepressants over th...    10.0   \n",
              "1  \"My son has Crohn&#039;s disease and has done ...     8.0   \n",
              "2                      \"Quick reduction of symptoms\"     9.0   \n",
              "3  \"Contrave combines drugs that were used for al...     9.0   \n",
              "4  \"I have been on this birth control for one cyc...     9.0   \n",
              "\n",
              "                 date  usefulCount  sentiment  \n",
              "0   February 28, 2012           22   0.000000  \n",
              "1        May 17, 2009           17   0.566667  \n",
              "2  September 29, 2017            3   0.333333  \n",
              "3       March 5, 2017           35   0.139063  \n",
              "4    October 22, 2015            4   0.260926  "
            ],
            "text/html": [
              "\n",
              "  <div id=\"df-2cee945a-fea2-4298-9e3c-76525b60a3b9\">\n",
              "    <div class=\"colab-df-container\">\n",
              "      <div>\n",
              "<style scoped>\n",
              "    .dataframe tbody tr th:only-of-type {\n",
              "        vertical-align: middle;\n",
              "    }\n",
              "\n",
              "    .dataframe tbody tr th {\n",
              "        vertical-align: top;\n",
              "    }\n",
              "\n",
              "    .dataframe thead th {\n",
              "        text-align: right;\n",
              "    }\n",
              "</style>\n",
              "<table border=\"1\" class=\"dataframe\">\n",
              "  <thead>\n",
              "    <tr style=\"text-align: right;\">\n",
              "      <th></th>\n",
              "      <th>UniqueID</th>\n",
              "      <th>drugName</th>\n",
              "      <th>condition</th>\n",
              "      <th>review</th>\n",
              "      <th>rating</th>\n",
              "      <th>date</th>\n",
              "      <th>usefulCount</th>\n",
              "      <th>sentiment</th>\n",
              "    </tr>\n",
              "  </thead>\n",
              "  <tbody>\n",
              "    <tr>\n",
              "      <th>0</th>\n",
              "      <td>163740</td>\n",
              "      <td>Mirtazapine</td>\n",
              "      <td>Depression</td>\n",
              "      <td>\"I&amp;#039;ve tried a few antidepressants over th...</td>\n",
              "      <td>10.0</td>\n",
              "      <td>February 28, 2012</td>\n",
              "      <td>22</td>\n",
              "      <td>0.000000</td>\n",
              "    </tr>\n",
              "    <tr>\n",
              "      <th>1</th>\n",
              "      <td>206473</td>\n",
              "      <td>Mesalamine</td>\n",
              "      <td>Crohn's Disease, Maintenance</td>\n",
              "      <td>\"My son has Crohn&amp;#039;s disease and has done ...</td>\n",
              "      <td>8.0</td>\n",
              "      <td>May 17, 2009</td>\n",
              "      <td>17</td>\n",
              "      <td>0.566667</td>\n",
              "    </tr>\n",
              "    <tr>\n",
              "      <th>2</th>\n",
              "      <td>159672</td>\n",
              "      <td>Bactrim</td>\n",
              "      <td>Urinary Tract Infection</td>\n",
              "      <td>\"Quick reduction of symptoms\"</td>\n",
              "      <td>9.0</td>\n",
              "      <td>September 29, 2017</td>\n",
              "      <td>3</td>\n",
              "      <td>0.333333</td>\n",
              "    </tr>\n",
              "    <tr>\n",
              "      <th>3</th>\n",
              "      <td>39293</td>\n",
              "      <td>Contrave</td>\n",
              "      <td>Weight Loss</td>\n",
              "      <td>\"Contrave combines drugs that were used for al...</td>\n",
              "      <td>9.0</td>\n",
              "      <td>March 5, 2017</td>\n",
              "      <td>35</td>\n",
              "      <td>0.139063</td>\n",
              "    </tr>\n",
              "    <tr>\n",
              "      <th>4</th>\n",
              "      <td>97768</td>\n",
              "      <td>Cyclafem 1 / 35</td>\n",
              "      <td>Birth Control</td>\n",
              "      <td>\"I have been on this birth control for one cyc...</td>\n",
              "      <td>9.0</td>\n",
              "      <td>October 22, 2015</td>\n",
              "      <td>4</td>\n",
              "      <td>0.260926</td>\n",
              "    </tr>\n",
              "  </tbody>\n",
              "</table>\n",
              "</div>\n",
              "      <button class=\"colab-df-convert\" onclick=\"convertToInteractive('df-2cee945a-fea2-4298-9e3c-76525b60a3b9')\"\n",
              "              title=\"Convert this dataframe to an interactive table.\"\n",
              "              style=\"display:none;\">\n",
              "        \n",
              "  <svg xmlns=\"http://www.w3.org/2000/svg\" height=\"24px\"viewBox=\"0 0 24 24\"\n",
              "       width=\"24px\">\n",
              "    <path d=\"M0 0h24v24H0V0z\" fill=\"none\"/>\n",
              "    <path d=\"M18.56 5.44l.94 2.06.94-2.06 2.06-.94-2.06-.94-.94-2.06-.94 2.06-2.06.94zm-11 1L8.5 8.5l.94-2.06 2.06-.94-2.06-.94L8.5 2.5l-.94 2.06-2.06.94zm10 10l.94 2.06.94-2.06 2.06-.94-2.06-.94-.94-2.06-.94 2.06-2.06.94z\"/><path d=\"M17.41 7.96l-1.37-1.37c-.4-.4-.92-.59-1.43-.59-.52 0-1.04.2-1.43.59L10.3 9.45l-7.72 7.72c-.78.78-.78 2.05 0 2.83L4 21.41c.39.39.9.59 1.41.59.51 0 1.02-.2 1.41-.59l7.78-7.78 2.81-2.81c.8-.78.8-2.07 0-2.86zM5.41 20L4 18.59l7.72-7.72 1.47 1.35L5.41 20z\"/>\n",
              "  </svg>\n",
              "      </button>\n",
              "      \n",
              "  <style>\n",
              "    .colab-df-container {\n",
              "      display:flex;\n",
              "      flex-wrap:wrap;\n",
              "      gap: 12px;\n",
              "    }\n",
              "\n",
              "    .colab-df-convert {\n",
              "      background-color: #E8F0FE;\n",
              "      border: none;\n",
              "      border-radius: 50%;\n",
              "      cursor: pointer;\n",
              "      display: none;\n",
              "      fill: #1967D2;\n",
              "      height: 32px;\n",
              "      padding: 0 0 0 0;\n",
              "      width: 32px;\n",
              "    }\n",
              "\n",
              "    .colab-df-convert:hover {\n",
              "      background-color: #E2EBFA;\n",
              "      box-shadow: 0px 1px 2px rgba(60, 64, 67, 0.3), 0px 1px 3px 1px rgba(60, 64, 67, 0.15);\n",
              "      fill: #174EA6;\n",
              "    }\n",
              "\n",
              "    [theme=dark] .colab-df-convert {\n",
              "      background-color: #3B4455;\n",
              "      fill: #D2E3FC;\n",
              "    }\n",
              "\n",
              "    [theme=dark] .colab-df-convert:hover {\n",
              "      background-color: #434B5C;\n",
              "      box-shadow: 0px 1px 3px 1px rgba(0, 0, 0, 0.15);\n",
              "      filter: drop-shadow(0px 1px 2px rgba(0, 0, 0, 0.3));\n",
              "      fill: #FFFFFF;\n",
              "    }\n",
              "  </style>\n",
              "\n",
              "      <script>\n",
              "        const buttonEl =\n",
              "          document.querySelector('#df-2cee945a-fea2-4298-9e3c-76525b60a3b9 button.colab-df-convert');\n",
              "        buttonEl.style.display =\n",
              "          google.colab.kernel.accessAllowed ? 'block' : 'none';\n",
              "\n",
              "        async function convertToInteractive(key) {\n",
              "          const element = document.querySelector('#df-2cee945a-fea2-4298-9e3c-76525b60a3b9');\n",
              "          const dataTable =\n",
              "            await google.colab.kernel.invokeFunction('convertToInteractive',\n",
              "                                                     [key], {});\n",
              "          if (!dataTable) return;\n",
              "\n",
              "          const docLinkHtml = 'Like what you see? Visit the ' +\n",
              "            '<a target=\"_blank\" href=https://colab.research.google.com/notebooks/data_table.ipynb>data table notebook</a>'\n",
              "            + ' to learn more about interactive tables.';\n",
              "          element.innerHTML = '';\n",
              "          dataTable['output_type'] = 'display_data';\n",
              "          await google.colab.output.renderOutput(dataTable, element);\n",
              "          const docLink = document.createElement('div');\n",
              "          docLink.innerHTML = docLinkHtml;\n",
              "          element.appendChild(docLink);\n",
              "        }\n",
              "      </script>\n",
              "    </div>\n",
              "  </div>\n",
              "  "
            ]
          },
          "metadata": {},
          "execution_count": 36
        }
      ]
    },
    {
      "cell_type": "code",
      "source": [
        "import csv"
      ],
      "metadata": {
        "id": "CmnENs2B6tOB"
      },
      "execution_count": 42,
      "outputs": []
    },
    {
      "cell_type": "code",
      "source": [
        "pd_df_train.to_csv(working_folder + \"drug_reviews_with_sentiment_train.csv\", index=False, sep='|', quoting=csv.QUOTE_MINIMAL)\n",
        "pd_df_test.to_csv(working_folder + \"drug_reviews_with_sentiment_test.csv\", index=False, sep='|', quoting=csv.QUOTE_MINIMAL)"
      ],
      "metadata": {
        "id": "e5oyrX6zy1GC"
      },
      "execution_count": 45,
      "outputs": []
    },
    {
      "cell_type": "markdown",
      "source": [
        "# Use John Snow Labs pretrained sentiment models pipeline\n"
      ],
      "metadata": {
        "id": "ouSfCBo-RgH7"
      }
    },
    {
      "cell_type": "markdown",
      "source": [
        "https://nlp.johnsnowlabs.com/\n",
        "\n",
        "Medium Article: \n",
        "https://medium.com/analytics-vidhya/sentiment-analysis-with-sparknlp-couldnt-be-easier-2a8ea3b728a0\n",
        "\n",
        "John Snow Labs Reference Notebook: \n",
        "https://colab.research.google.com/github/JohnSnowLabs/spark-nlp-workshop/blob/master/jupyter/quick_start_google_colab.ipynb#scrollTo=tyMMD_upEfIa\n",
        "\n",
        "This model using BioBERT would potentially perform better, but it is not free-tier:\n",
        "https://nlp.johnsnowlabs.com/2022/07/28/bert_sequence_classifier_drug_reviews_webmd_en_3_0.html\n"
      ],
      "metadata": {
        "id": "ZWvfTpUkyEms"
      }
    },
    {
      "cell_type": "markdown",
      "source": [
        "### Use Twitter Sentiment Analysis Model: analyze_sentimentdl_use_twitter \n",
        "\n",
        "Model: https://nlp.johnsnowlabs.com/2021/01/18/sentimentdl_use_twitter_en.html\n",
        "\n",
        "Universal Sentence Encoder: https://nlp.johnsnowlabs.com/2020/04/17/tfhub_use.html"
      ],
      "metadata": {
        "id": "TWjOixtiwMN_"
      }
    },
    {
      "cell_type": "code",
      "source": [
        "\"\"\"pipeline = PretrainedPipeline('analyze_sentimentdl_use_twitter', 'en')\n",
        "pipeline.model.stages\n",
        "# rename the text column as 'text', pipeline expects 'text' \n",
        "df_result = pipeline.transform(df.withColumnRenamed(\"review\", \"text\"))\n",
        "# Extract results from the \"sentiments\" column\n",
        "df_twitter_sentiments = df_result.withColumn(\"sentiment\", explode('sentiment.result')).drop(*['document','sentence_embeddings'])\"\"\""
      ],
      "metadata": {
        "id": "o7wglGlsIhh1"
      },
      "execution_count": null,
      "outputs": []
    },
    {
      "cell_type": "markdown",
      "source": [
        "\n",
        "A vast majority of the reviews are negative\n",
        "\n",
        "\n",
        "+---------+------+<br>\n",
        "|sentiment| count|<br>\n",
        "+---------+------+<br>\n",
        "| positive| 31299|<br>\n",
        "|  neutral|  6568|<br>\n",
        "| negative|123430|<br>\n",
        "+---------+------+\n",
        "\n"
      ],
      "metadata": {
        "id": "bC0vUff43jzZ"
      }
    },
    {
      "cell_type": "code",
      "source": [
        "# took 20 minutes to run\n",
        "#df_twitter_sentiments.groupBy('sentiment').count().show()"
      ],
      "metadata": {
        "id": "VhzZJ2UJLtKl"
      },
      "execution_count": null,
      "outputs": []
    },
    {
      "cell_type": "markdown",
      "source": [
        "### Use RoBERTa Sentiment Classifier: roberta_classifier_autotrain_sentiment_polarity_918130222\n",
        "\n",
        "Model: https://nlp.johnsnowlabs.com/2022/09/19/roberta_classifier_autotrain_sentiment_polarity_918130222_en.html\n",
        "\n",
        "HuggingFace: https://huggingface.co/docs/transformers/model_doc/roberta\n",
        "\n",
        "Breakdown how pretrained pipeline works under the hood: https://colab.research.google.com/github/JohnSnowLabs/spark-nlp-workshop/blob/master/tutorials/streamlit_notebooks/SENTIMENT_EN.ipynb"
      ],
      "metadata": {
        "id": "dsCoFFk4k-4H"
      }
    },
    {
      "cell_type": "code",
      "source": [
        "documentAssembler = DocumentAssembler() \\\n",
        "        .setInputCol(\"review\") \\\n",
        "        .setOutputCol(\"document\")\n",
        "\n",
        "tokenizer = Tokenizer() \\\n",
        "    .setInputCols(\"document\") \\\n",
        "    .setOutputCol(\"token\")\n",
        "\n",
        "seq_classifier = RoBertaForSequenceClassification.pretrained(\"roberta_classifier_autotrain_sentiment_polarity_918130222\",\"en\") \\\n",
        "    .setInputCols([\"document\", \"token\"]) \\\n",
        "    .setOutputCol(\"sentiment\")"
      ],
      "metadata": {
        "id": "Hq1cuAU8sdFc"
      },
      "execution_count": null,
      "outputs": []
    },
    {
      "cell_type": "code",
      "source": [
        "nlp_pipeline = Pipeline(stages=[documentAssembler, tokenizer, seq_classifier])"
      ],
      "metadata": {
        "id": "oUnFUal6u65i"
      },
      "execution_count": null,
      "outputs": []
    },
    {
      "cell_type": "code",
      "source": [
        "df_train = nlp_pipeline.fit(df).transform(df)"
      ],
      "metadata": {
        "id": "-LH4DYPty3QD"
      },
      "execution_count": null,
      "outputs": []
    },
    {
      "cell_type": "code",
      "source": [
        "df_train = df_train.withColumn(\"sentiment\", explode('sentiment.result')).drop('document','token','class')"
      ],
      "metadata": {
        "id": "BYq2VfmA5nfJ"
      },
      "execution_count": null,
      "outputs": []
    },
    {
      "cell_type": "code",
      "source": [
        "df_train.show()"
      ],
      "metadata": {
        "id": "W7mJdiulCWc5"
      },
      "execution_count": null,
      "outputs": []
    },
    {
      "cell_type": "code",
      "source": [
        "df_train = df_train.withColumn(\"sentiment\", df_train[\"sentiment\"].cast(DoubleType()))"
      ],
      "metadata": {
        "id": "qQ-iX00eE0i-"
      },
      "execution_count": null,
      "outputs": []
    },
    {
      "cell_type": "code",
      "source": [
        "df_train.count()"
      ],
      "metadata": {
        "id": "JyGApT9qz0Ym"
      },
      "execution_count": null,
      "outputs": []
    },
    {
      "cell_type": "code",
      "source": [
        "import py4j.protocol  \n",
        "from py4j.protocol import Py4JJavaError  \n",
        "from py4j.java_gateway import JavaObject  \n",
        "from py4j.java_collections import JavaArray, JavaList\n",
        "\n",
        "from pyspark import RDD, SparkContext  \n",
        "from pyspark.serializers import PickleSerializer, AutoBatchedSerializer\n",
        "\n",
        "\n",
        "# Helper function to convert python object to Java objects\n",
        "def _to_java_object_rdd(rdd):  \n",
        "    \"\"\" Return a JavaRDD of Object by unpickling\n",
        "    It will convert each Python object into Java object by Pyrolite, whenever the\n",
        "    RDD is serialized in batch or not.\n",
        "    \"\"\"\n",
        "    rdd = rdd._reserialize(AutoBatchedSerializer(PickleSerializer()))\n",
        "    return rdd.ctx._jvm.org.apache.spark.mllib.api.python.SerDe.pythonToJava(rdd._jrdd, True)\n",
        "\n",
        "# First you have to convert it to an RDD \n",
        "JavaObj = _to_java_object_rdd(small_df.rdd)\n",
        "\n",
        "# Now we can run the estimator\n",
        "sc._jvm.org.apache.spark.util.SizeEstimator.estimate(JavaObj)"
      ],
      "metadata": {
        "id": "dA6EwZul4e74"
      },
      "execution_count": null,
      "outputs": []
    },
    {
      "cell_type": "code",
      "source": [
        "# First you have to convert it to an RDD \n",
        "JavaObj = _to_java_object_rdd(df_train.rdd)\n",
        "\n",
        "# Now we can run the estimator\n",
        "sc._jvm.org.apache.spark.util.SizeEstimator.estimate(JavaObj)"
      ],
      "metadata": {
        "id": "RpyoXnCm5Bo_"
      },
      "execution_count": null,
      "outputs": []
    },
    {
      "cell_type": "code",
      "source": [
        "#df_train.write.mode('overwrite').parquet(working_folder + \"drug_reviews_with_sentiment_train.parquet\")"
      ],
      "metadata": {
        "id": "Cb62xy1d15eQ"
      },
      "execution_count": null,
      "outputs": []
    },
    {
      "cell_type": "code",
      "source": [
        "# Drop rows with missing values\n",
        "df_test = df_test.dropna()"
      ],
      "metadata": {
        "id": "H0O6sDDxl2Ho"
      },
      "execution_count": null,
      "outputs": []
    },
    {
      "cell_type": "code",
      "source": [
        "## Drop rows where condition contains irrelevant strings\n",
        "df_test = df_test.where(~df_test.condition.contains(\"</span>\"))"
      ],
      "metadata": {
        "id": "fHWRSqmfugPN"
      },
      "execution_count": null,
      "outputs": []
    },
    {
      "cell_type": "code",
      "source": [
        "df_test.count()"
      ],
      "metadata": {
        "id": "dXbFhJaJ0UJe"
      },
      "execution_count": null,
      "outputs": []
    },
    {
      "cell_type": "code",
      "source": [
        "df_test = nlp_pipeline.fit(df_test).transform(df_test)"
      ],
      "metadata": {
        "id": "6dAKII66DzEc"
      },
      "execution_count": null,
      "outputs": []
    },
    {
      "cell_type": "code",
      "source": [
        "df_test = df_test.withColumn(\"sentiment\", explode('class.result')).drop(*['token','class','document'])"
      ],
      "metadata": {
        "id": "b2S1eRj0D5CM"
      },
      "execution_count": null,
      "outputs": []
    },
    {
      "cell_type": "code",
      "source": [
        "df_test.show()"
      ],
      "metadata": {
        "id": "AORVs6_AmIeK"
      },
      "execution_count": null,
      "outputs": []
    },
    {
      "cell_type": "code",
      "source": [
        "# Write complete dataframe to disk\n",
        "#df_test.write.csv(working_folder + \"drug_reviews_with_sentiment_test.csv\")\n",
        "# Write complete dataframe to disk\n",
        "#pd_df_test = df_test.toPandas()\n",
        "#pd_df_test.to_csv(working_folder + \"drug_reviews_with_sentiment_test.csv\")\n",
        "df_test.write.mode('overwrite').parquet(working_folder + \"drug_reviews_with_sentiment_test.parquet\")"
      ],
      "metadata": {
        "id": "ss1zGIvsCznx"
      },
      "execution_count": null,
      "outputs": []
    }
  ]
}